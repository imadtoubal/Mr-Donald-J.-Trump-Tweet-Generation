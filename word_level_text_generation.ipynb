{
  "nbformat": 4,
  "nbformat_minor": 0,
  "metadata": {
    "colab": {
      "name": "[Final] Word-level_Unsupervised Learning Project",
      "provenance": [],
      "collapsed_sections": [],
      "machine_shape": "hm"
    },
    "kernelspec": {
      "name": "python3",
      "display_name": "Python 3"
    },
    "accelerator": "GPU"
  },
  "cells": [
    {
      "cell_type": "code",
      "metadata": {
        "id": "1s7LwtQ4vus1",
        "colab_type": "code",
        "outputId": "bad5293c-4936-492f-fa0a-411f4ec9bdac",
        "colab": {
          "base_uri": "https://localhost:8080/",
          "height": 105
        }
      },
      "source": [
        "!pip install html2text #ONLY if html2text not installed"
      ],
      "execution_count": 0,
      "outputs": [
        {
          "output_type": "stream",
          "text": [
            "Collecting html2text\n",
            "  Downloading https://files.pythonhosted.org/packages/49/21/eb38d335ab15fc13564a5e971c1403707fb3a037292f246fa82e17208794/html2text-2019.9.26-py3-none-any.whl\n",
            "Installing collected packages: html2text\n",
            "Successfully installed html2text-2019.9.26\n"
          ],
          "name": "stdout"
        }
      ]
    },
    {
      "cell_type": "code",
      "metadata": {
        "id": "6pIOWsoV5I9Y",
        "colab_type": "code",
        "outputId": "5b7a5819-42bc-4b48-e124-b27868156c0f",
        "colab": {
          "base_uri": "https://localhost:8080/",
          "height": 97
        }
      },
      "source": [
        "import numpy as np\n",
        "import pandas as pd\n",
        "from __future__ import print_function\n",
        "import sys\n",
        "import io\n",
        "import random\n",
        "\n",
        "# NLP and text\n",
        "from html2text import html2text\n",
        "import re\n",
        "import string\n",
        "import nltk\n",
        "from nltk.data import find\n",
        "import gensim\n",
        "from gensim.models import Word2Vec\n",
        "from nltk.tokenize.treebank import TreebankWordDetokenizer\n",
        "\n",
        "# Machine learning\n",
        "from keras.callbacks import LambdaCallback\n",
        "from keras.models import Sequential\n",
        "from keras.layers import Dense, Dropout\n",
        "from keras.layers import LSTM, CuDNNLSTM\n",
        "from keras.optimizers import RMSprop, Adam\n",
        "from keras.utils.data_utils import get_file"
      ],
      "execution_count": 0,
      "outputs": [
        {
          "output_type": "stream",
          "text": [
            "Using TensorFlow backend.\n"
          ],
          "name": "stderr"
        },
        {
          "output_type": "display_data",
          "data": {
            "text/html": [
              "<p style=\"color: red;\">\n",
              "The default version of TensorFlow in Colab will soon switch to TensorFlow 2.x.<br>\n",
              "We recommend you <a href=\"https://www.tensorflow.org/guide/migrate\" target=\"_blank\">upgrade</a> now \n",
              "or ensure your notebook will continue to use TensorFlow 1.x via the <code>%tensorflow_version 1.x</code> magic:\n",
              "<a href=\"https://colab.research.google.com/notebooks/tensorflow_version.ipynb\" target=\"_blank\">more info</a>.</p>\n"
            ],
            "text/plain": [
              "<IPython.core.display.HTML object>"
            ]
          },
          "metadata": {
            "tags": []
          }
        }
      ]
    },
    {
      "cell_type": "code",
      "metadata": {
        "id": "dwQK4RtyAQVs",
        "colab_type": "code",
        "outputId": "bd614084-fb86-43bf-8536-b3afbca9168a",
        "colab": {
          "base_uri": "https://localhost:8080/",
          "height": 68
        }
      },
      "source": [
        "nltk.download('punkt')"
      ],
      "execution_count": 0,
      "outputs": [
        {
          "output_type": "stream",
          "text": [
            "[nltk_data] Downloading package punkt to /root/nltk_data...\n",
            "[nltk_data]   Unzipping tokenizers/punkt.zip.\n"
          ],
          "name": "stdout"
        },
        {
          "output_type": "execute_result",
          "data": {
            "text/plain": [
              "True"
            ]
          },
          "metadata": {
            "tags": []
          },
          "execution_count": 3
        }
      ]
    },
    {
      "cell_type": "code",
      "metadata": {
        "id": "sgxo99ly5V3i",
        "colab_type": "code",
        "outputId": "3c5bf337-f02e-4bde-e2de-dc19ecf7e4a8",
        "colab": {
          "base_uri": "https://localhost:8080/",
          "height": 122
        }
      },
      "source": [
        "# Mount google drive\n",
        "from google.colab import drive\n",
        "drive.mount('/content/drive')"
      ],
      "execution_count": 0,
      "outputs": [
        {
          "output_type": "stream",
          "text": [
            "Go to this URL in a browser: https://accounts.google.com/o/oauth2/auth?client_id=947318989803-6bn6qk8qdgf4n4g3pfee6491hc0brc4i.apps.googleusercontent.com&redirect_uri=urn%3aietf%3awg%3aoauth%3a2.0%3aoob&response_type=code&scope=email%20https%3a%2f%2fwww.googleapis.com%2fauth%2fdocs.test%20https%3a%2f%2fwww.googleapis.com%2fauth%2fdrive%20https%3a%2f%2fwww.googleapis.com%2fauth%2fdrive.photos.readonly%20https%3a%2f%2fwww.googleapis.com%2fauth%2fpeopleapi.readonly\n",
            "\n",
            "Enter your authorization code:\n",
            "··········\n",
            "Mounted at /content/drive\n"
          ],
          "name": "stdout"
        }
      ]
    },
    {
      "cell_type": "code",
      "metadata": {
        "id": "X_edFoLn5Lmk",
        "colab_type": "code",
        "outputId": "3ecfee50-8f22-466c-a9f4-54608ac3ec77",
        "colab": {
          "base_uri": "https://localhost:8080/",
          "height": 275
        }
      },
      "source": [
        "# load ascii text and covert to lowercase\n",
        "filename = \"/content/drive/My Drive/Unsupervised Project/all_djt_tweets.csv\"\n",
        "df = pd.read_csv(filename, header=0)\n",
        "df['text']"
      ],
      "execution_count": 0,
      "outputs": [
        {
          "output_type": "stream",
          "text": [
            "/usr/local/lib/python3.6/dist-packages/IPython/core/interactiveshell.py:2718: DtypeWarning: Columns (0,1,2,3,4,6) have mixed types. Specify dtype option on import or set low_memory=False.\n",
            "  interactivity=interactivity, compiler=compiler, result=result)\n"
          ],
          "name": "stderr"
        },
        {
          "output_type": "execute_result",
          "data": {
            "text/plain": [
              "0         Over 90% approval rating for your all time fav...\n",
              "1         “Mainstream Media tries to rewrite history to ...\n",
              "2         Fantastic numbers on consumer spending release...\n",
              "3         ...And it will get, as I have always said, muc...\n",
              "4         RT @realDonaldTrump: Social Media Giants are s...\n",
              "                                ...                        \n",
              "328048    \"My persona will never be that of a wallflower...\n",
              "328049    New Blog Post: Celebrity Apprentice Finale and...\n",
              "328050    Donald Trump reads Top Ten Financial Tips on L...\n",
              "328051    Donald Trump will be appearing on The View tom...\n",
              "328052    Be sure to tune in and watch Donald Trump on L...\n",
              "Name: text, Length: 328053, dtype: object"
            ]
          },
          "metadata": {
            "tags": []
          },
          "execution_count": 5
        }
      ]
    },
    {
      "cell_type": "code",
      "metadata": {
        "id": "3YhsQ8sv7RI5",
        "colab_type": "code",
        "colab": {}
      },
      "source": [
        ""
      ],
      "execution_count": 0,
      "outputs": []
    },
    {
      "cell_type": "markdown",
      "metadata": {
        "id": "Evac_XY59Fmc",
        "colab_type": "text"
      },
      "source": [
        "Since this data is generated from YouTube subtitles, we would want to get rid of things like special characters\n",
        "\n",
        "Src: https://www.kaggle.com/binksbiz/sentiment-analysis"
      ]
    },
    {
      "cell_type": "code",
      "metadata": {
        "id": "wGdcD-hUMsuY",
        "colab_type": "code",
        "colab": {}
      },
      "source": [
        ""
      ],
      "execution_count": 0,
      "outputs": []
    },
    {
      "cell_type": "code",
      "metadata": {
        "id": "HoVWdqH96tcH",
        "colab_type": "code",
        "outputId": "5d5e47bc-1487-4994-e3d6-c757a5799b18",
        "colab": {
          "base_uri": "https://localhost:8080/",
          "height": 47
        }
      },
      "source": [
        "df.loc[df['text'] == None]"
      ],
      "execution_count": 0,
      "outputs": [
        {
          "output_type": "execute_result",
          "data": {
            "text/html": [
              "<div>\n",
              "<style scoped>\n",
              "    .dataframe tbody tr th:only-of-type {\n",
              "        vertical-align: middle;\n",
              "    }\n",
              "\n",
              "    .dataframe tbody tr th {\n",
              "        vertical-align: top;\n",
              "    }\n",
              "\n",
              "    .dataframe thead th {\n",
              "        text-align: right;\n",
              "    }\n",
              "</style>\n",
              "<table border=\"1\" class=\"dataframe\">\n",
              "  <thead>\n",
              "    <tr style=\"text-align: right;\">\n",
              "      <th></th>\n",
              "      <th>Unnamed: 0</th>\n",
              "      <th>source</th>\n",
              "      <th>text</th>\n",
              "      <th>created_at</th>\n",
              "      <th>retweet_count</th>\n",
              "      <th>favorite_count</th>\n",
              "      <th>is_retweet</th>\n",
              "      <th>id_str</th>\n",
              "    </tr>\n",
              "  </thead>\n",
              "  <tbody>\n",
              "  </tbody>\n",
              "</table>\n",
              "</div>"
            ],
            "text/plain": [
              "Empty DataFrame\n",
              "Columns: [Unnamed: 0, source, text, created_at, retweet_count, favorite_count, is_retweet, id_str]\n",
              "Index: []"
            ]
          },
          "metadata": {
            "tags": []
          },
          "execution_count": 6
        }
      ]
    },
    {
      "cell_type": "code",
      "metadata": {
        "id": "yvF9_h_W9YKp",
        "colab_type": "code",
        "colab": {}
      },
      "source": [
        "# cleanup\n",
        "alphabet = '0123456789abcdefghijklmnopqrstuvwxyzABCDEFGHIJKLMNOPQRSTUVWXYZ!\"#$%&\\'()*+,-./:;<=>?@[\\\\]^_`{|}~ \\t\\n\\r\\x0b\\x0c'\n",
        "def cleanup(sentence):\n",
        "\n",
        "    if(isinstance(sentence, float)):\n",
        "      return ''\n",
        "\n",
        "    output = html2text(sentence) \n",
        "    # remove retweets and mentions\n",
        "    output = re.sub(\"^RT @.*\", \"\", output)\n",
        "\n",
        "    output = re.sub(\"^@.*\", \"\", output)\n",
        "    \n",
        "    output = output.lower()\n",
        "    # remove hashtags\n",
        "    output = re.sub(\"#\\w+$\", \"\", output)\n",
        "    # remove urls\n",
        "    urlregex = \"https?:\\/\\/(?:www\\.|(?!www))[a-zA-Z0-9][a-zA-Z0-9-]+[a-zA-Z0-9]\\.[^\\s]{2,}|www\\.[a-zA-Z0-9][a-zA-Z0-9-]+[a-zA-Z0-9]\\.[^\\s]{2,}|https?:\\/\\/(?:www\\.|(?!www))[a-zA-Z0-9]+\\.[^\\s]{2,}|www\\.[a-zA-Z0-9]+\\.[^\\s]{2,}\"\n",
        "    output = re.sub(urlregex, \"\", output)\n",
        "    \n",
        "    # remove special characters \n",
        "    output = re.sub(\"[…“\\\"”&+,:;=?#$|<>.^*()!–_]\", \"\", output)\n",
        "\n",
        "    output = re.sub(\"-\", \" \", output)\n",
        "    output = ''.join(filter(lambda x: x in alphabet, output))\n",
        "    \n",
        "    # remove twitter handles \n",
        "    output = re.sub(\"@[a-zA-Z0-9]+\", \" <@twitter_handle> \", output)\n",
        "    \n",
        "    # remove numbers and percentages\n",
        "    output = re.sub(\"(\\d+%)\\s+|\\s+(\\d+%)\", \" <percentage> \", output)\n",
        "    output = re.sub(\"(\\d+)\\s+|\\s+(\\d+)\", \" <number> \", output)\n",
        "\n",
        "    # remove extra spaces\n",
        "    output = re.sub(\"\\s+\", \" \", output).strip()\n",
        "    # if(output == 'nan'):\n",
        "    #   print(sentence)\n",
        "    return  output + ' <eot>' if len(output) > 0 else ''\n",
        "\n",
        "\n",
        "df['clean_tweets'] = df['text'].apply(cleanup)\n"
      ],
      "execution_count": 0,
      "outputs": []
    },
    {
      "cell_type": "code",
      "metadata": {
        "id": "9713n-CS1a9b",
        "colab_type": "code",
        "outputId": "8c5e26d5-965a-44ae-eede-d3cba29b1516",
        "colab": {
          "base_uri": "https://localhost:8080/",
          "height": 33
        }
      },
      "source": [
        "len(df['clean_tweets'])"
      ],
      "execution_count": 0,
      "outputs": [
        {
          "output_type": "execute_result",
          "data": {
            "text/plain": [
              "328053"
            ]
          },
          "metadata": {
            "tags": []
          },
          "execution_count": 8
        }
      ]
    },
    {
      "cell_type": "code",
      "metadata": {
        "id": "SKw8sm5d0qkg",
        "colab_type": "code",
        "colab": {}
      },
      "source": [
        "clean_tweets = df.loc[df['clean_tweets'] != '']"
      ],
      "execution_count": 0,
      "outputs": []
    },
    {
      "cell_type": "code",
      "metadata": {
        "id": "I_jzx1Ap4cLo",
        "colab_type": "code",
        "colab": {}
      },
      "source": [
        "clean_tweets = clean_tweets.astype(str)['clean_tweets']"
      ],
      "execution_count": 0,
      "outputs": []
    },
    {
      "cell_type": "code",
      "metadata": {
        "id": "H5e-0A5P1deH",
        "colab_type": "code",
        "outputId": "dd2f70ce-bad6-45de-c034-7b0754109d99",
        "colab": {
          "base_uri": "https://localhost:8080/",
          "height": 33
        }
      },
      "source": [
        "len(clean_tweets)"
      ],
      "execution_count": 0,
      "outputs": [
        {
          "output_type": "execute_result",
          "data": {
            "text/plain": [
              "32536"
            ]
          },
          "metadata": {
            "tags": []
          },
          "execution_count": 11
        }
      ]
    },
    {
      "cell_type": "code",
      "metadata": {
        "id": "RPBJb09ShZB7",
        "colab_type": "code",
        "colab": {}
      },
      "source": [
        "tweets = clean_tweets.astype(str).tolist()"
      ],
      "execution_count": 0,
      "outputs": []
    },
    {
      "cell_type": "code",
      "metadata": {
        "id": "yd4dwahx9csq",
        "colab_type": "code",
        "outputId": "ff1faa9a-fd3f-400d-8291-578d91a77cc9",
        "colab": {
          "base_uri": "https://localhost:8080/",
          "height": 33
        }
      },
      "source": [
        "all_tweets = ' '.join(tweets)\n",
        "corpus = all_tweets\n",
        "len(all_tweets)"
      ],
      "execution_count": 0,
      "outputs": [
        {
          "output_type": "execute_result",
          "data": {
            "text/plain": [
              "3887319"
            ]
          },
          "metadata": {
            "tags": []
          },
          "execution_count": 13
        }
      ]
    },
    {
      "cell_type": "code",
      "metadata": {
        "id": "Gdlcp3hP-D80",
        "colab_type": "code",
        "colab": {}
      },
      "source": [
        "# nltk.download('word2vec_sample')\n",
        "# word2vec_sample = str(find('models/word2vec_sample/pruned.word2vec.txt'))\n",
        "# embedding = gensim.models.KeyedVectors.load_word2vec_format(word2vec_sample, binary=False)"
      ],
      "execution_count": 0,
      "outputs": []
    },
    {
      "cell_type": "code",
      "metadata": {
        "id": "3ZUdNPRZ_-cj",
        "colab_type": "code",
        "outputId": "a906d202-9f6b-4fd3-9289-cbcbc8cfec32",
        "colab": {
          "base_uri": "https://localhost:8080/",
          "height": 33
        }
      },
      "source": [
        "# AVERAGE WORD COUNT IN TWEETS \n",
        "all_sentences = []\n",
        "lengths = []\n",
        "for tweet in tweets:\n",
        "  lengths.append(len(tweet))\n",
        "  sentence = tweet.split(' ')\n",
        "  all_sentences.append(sentence)\n",
        "\n",
        "np.array(lengths).mean()"
      ],
      "execution_count": 0,
      "outputs": [
        {
          "output_type": "execute_result",
          "data": {
            "text/plain": [
              "118.47750184411113"
            ]
          },
          "metadata": {
            "tags": []
          },
          "execution_count": 15
        }
      ]
    },
    {
      "cell_type": "code",
      "metadata": {
        "id": "TAWWrp5xBBxu",
        "colab_type": "code",
        "colab": {}
      },
      "source": [
        "embedding = Word2Vec(all_sentences,  size=100, min_count=1)  # word_model=gensim.models.Word2Vec(sentences, size=200, min_count=1, window=5)"
      ],
      "execution_count": 0,
      "outputs": []
    },
    {
      "cell_type": "code",
      "metadata": {
        "id": "7jHzoK13CvPu",
        "colab_type": "code",
        "colab": {}
      },
      "source": [
        "embdim = embedding.wv['the'].size\n"
      ],
      "execution_count": 0,
      "outputs": []
    },
    {
      "cell_type": "code",
      "metadata": {
        "id": "3z13niAXFq-O",
        "colab_type": "code",
        "colab": {}
      },
      "source": [
        "words = corpus.split(' ')"
      ],
      "execution_count": 0,
      "outputs": []
    },
    {
      "cell_type": "code",
      "metadata": {
        "id": "STicqqnqKEtm",
        "colab_type": "code",
        "colab": {}
      },
      "source": [
        "# https://keras.io/examples/lstm_text_generation/\n",
        "# cut the text in semi-redundant sequences of seqlen words\n",
        "seqlen = 20\n",
        "step = 5\n",
        "sentences = []\n",
        "next_word = []\n",
        "for i in range(0, len(words) - seqlen, step):\n",
        "    sentences.append(words[i: i + seqlen])\n",
        "    next_word.append(words[i + seqlen])"
      ],
      "execution_count": 0,
      "outputs": []
    },
    {
      "cell_type": "code",
      "metadata": {
        "id": "7Cf3-eBHrNTK",
        "colab_type": "code",
        "outputId": "9195610a-c8d0-481a-8ec8-0fe2b762ccb2",
        "colab": {
          "base_uri": "https://localhost:8080/",
          "height": 351
        }
      },
      "source": [
        "sentences[0][:100]"
      ],
      "execution_count": 0,
      "outputs": [
        {
          "output_type": "execute_result",
          "data": {
            "text/plain": [
              "['over',\n",
              " '<percentage>',\n",
              " 'approval',\n",
              " 'rating',\n",
              " 'for',\n",
              " 'your',\n",
              " 'all',\n",
              " 'time',\n",
              " 'favorite',\n",
              " 'i',\n",
              " 'hope',\n",
              " 'president',\n",
              " 'within',\n",
              " 'the',\n",
              " 'republican',\n",
              " 'party',\n",
              " 'and',\n",
              " '<percentage>',\n",
              " 'overall',\n",
              " 'this']"
            ]
          },
          "metadata": {
            "tags": []
          },
          "execution_count": 20
        }
      ]
    },
    {
      "cell_type": "code",
      "metadata": {
        "id": "shNRwU5e_Pea",
        "colab_type": "code",
        "outputId": "7de29549-19e9-47d0-e801-1375842a6042",
        "colab": {
          "base_uri": "https://localhost:8080/",
          "height": 50
        }
      },
      "source": [
        "print('nb sequences:', len(sentences))\n",
        "print('Vectorization...')\n",
        "x = np.zeros((len(sentences), seqlen, embdim))\n",
        "y = np.zeros((len(sentences), embdim))\n",
        "\n",
        "for i, sentence in enumerate(sentences):\n",
        "    for t, word in enumerate(sentence):\n",
        "        x[i, t,:] = embedding.wv[word]\n",
        "\n",
        "for i, next_word in enumerate(next_word):\n",
        "    y[i, :] = embedding.wv[next_word]"
      ],
      "execution_count": 0,
      "outputs": [
        {
          "output_type": "stream",
          "text": [
            "nb sequences: 122219\n",
            "Vectorization...\n"
          ],
          "name": "stdout"
        }
      ]
    },
    {
      "cell_type": "code",
      "metadata": {
        "id": "dJZ1BQSVNARN",
        "colab_type": "code",
        "outputId": "741165f7-aa92-434a-ba08-c0fb3a94571f",
        "colab": {
          "base_uri": "https://localhost:8080/",
          "height": 33
        }
      },
      "source": [
        "x.shape"
      ],
      "execution_count": 0,
      "outputs": [
        {
          "output_type": "execute_result",
          "data": {
            "text/plain": [
              "(122219, 20, 100)"
            ]
          },
          "metadata": {
            "tags": []
          },
          "execution_count": 22
        }
      ]
    },
    {
      "cell_type": "code",
      "metadata": {
        "id": "Bdvk2CxbCOrY",
        "colab_type": "code",
        "outputId": "b96dda58-a542-4610-a8c1-22621e0ae9cc",
        "colab": {
          "base_uri": "https://localhost:8080/",
          "height": 1000
        }
      },
      "source": [
        "# build the model: a single LSTM\n",
        "print('Build model...')\n",
        "model = Sequential()\n",
        "# model.add(CuDNNLSTM(128, return_sequences=True, input_shape=(seqlen, embdim)))\n",
        "# model.add(Dropout(0.2))\n",
        "model.add(CuDNNLSTM(250))\n",
        "model.add(Dropout(0.2))\n",
        "model.add(Dense(250, activation='relu'))\n",
        "model.add(Dense(embdim, activation='linear'))\n",
        "\n",
        "optimizer = Adam(lr=0.01, decay=1e-3)\n",
        "model.compile(loss='mse', optimizer=optimizer, metrics=['accuracy'])\n",
        "\n",
        "\n",
        "def sample(similars, temperature=1.0):\n",
        "    # helper function to sample an index from a probability array\n",
        "    preds = [elt[1] for elt in similars]\n",
        "\n",
        "    preds = np.asarray(preds).astype('float64')\n",
        "    preds = np.log(preds) / temperature\n",
        "    exp_preds = np.exp(preds)\n",
        "    preds = exp_preds / np.sum(exp_preds)\n",
        "    probas = np.random.multinomial(1, preds, 1)\n",
        "    argm = np.argmax(probas)\n",
        "    return similars[argm][0]\n",
        "\n",
        "def vec2word(vec, temperature=1.0):\n",
        "    similars = embedding.most_similar(positive=[vec], topn=10)\n",
        "    return sample(similars, temperature)\n",
        "\n",
        "def arr2sent(arr):\n",
        "    return TreebankWordDetokenizer().detokenize(arr)\n",
        "\n",
        "\n",
        "def on_epoch_end(epoch, _):\n",
        "    # Function invoked at end of each epoch. Prints generated text.\n",
        "    print()\n",
        "    print('----- Generating text after Epoch: %d' % epoch)\n",
        "\n",
        "    start_index = random.randint(0, len(all_sentences))\n",
        "    sentence = all_sentences[start_index][0:10]\n",
        "    print(sentence)\n",
        "    generated = sentence\n",
        "    \n",
        "    print('----- Generating with seed: \"' + arr2sent(sentence) + '\"')\n",
        "    for i in range(50):\n",
        "        x_pred = np.zeros((1, seqlen, embdim))\n",
        "        for t, word in enumerate(sentence):\n",
        "            x_pred[0, t, :] = embedding.wv[word]\n",
        "\n",
        "        vec = model.predict(x_pred, verbose=0)[0]\n",
        "        next_word = vec2word(vec, 0.5)\n",
        "\n",
        "        sentence.append(next_word)\n",
        "        sentence = sentence[1:]\n",
        "        generated.append(next_word)\n",
        "    print(arr2sent(generated))\n",
        "\n",
        "print_callback = LambdaCallback(on_epoch_end=on_epoch_end)\n",
        "\n",
        "#batch_size=128\n",
        "history = model.fit(x, y,\n",
        "          batch_size=200, \n",
        "          epochs=120,\n",
        "          callbacks=[print_callback])"
      ],
      "execution_count": 0,
      "outputs": [
        {
          "output_type": "stream",
          "text": [
            "Build model...\n",
            "WARNING:tensorflow:From /usr/local/lib/python3.6/dist-packages/keras/backend/tensorflow_backend.py:66: The name tf.get_default_graph is deprecated. Please use tf.compat.v1.get_default_graph instead.\n",
            "\n",
            "WARNING:tensorflow:From /usr/local/lib/python3.6/dist-packages/keras/optimizers.py:793: The name tf.train.Optimizer is deprecated. Please use tf.compat.v1.train.Optimizer instead.\n",
            "\n",
            "WARNING:tensorflow:From /usr/local/lib/python3.6/dist-packages/keras/backend/tensorflow_backend.py:541: The name tf.placeholder is deprecated. Please use tf.compat.v1.placeholder instead.\n",
            "\n",
            "WARNING:tensorflow:From /usr/local/lib/python3.6/dist-packages/keras/backend/tensorflow_backend.py:4432: The name tf.random_uniform is deprecated. Please use tf.random.uniform instead.\n",
            "\n",
            "WARNING:tensorflow:From /usr/local/lib/python3.6/dist-packages/keras/backend/tensorflow_backend.py:148: The name tf.placeholder_with_default is deprecated. Please use tf.compat.v1.placeholder_with_default instead.\n",
            "\n",
            "WARNING:tensorflow:From /usr/local/lib/python3.6/dist-packages/keras/backend/tensorflow_backend.py:3733: calling dropout (from tensorflow.python.ops.nn_ops) with keep_prob is deprecated and will be removed in a future version.\n",
            "Instructions for updating:\n",
            "Please use `rate` instead of `keep_prob`. Rate should be set to `rate = 1 - keep_prob`.\n",
            "WARNING:tensorflow:From /usr/local/lib/python3.6/dist-packages/keras/backend/tensorflow_backend.py:1033: The name tf.assign_add is deprecated. Please use tf.compat.v1.assign_add instead.\n",
            "\n",
            "WARNING:tensorflow:From /usr/local/lib/python3.6/dist-packages/keras/backend/tensorflow_backend.py:1020: The name tf.assign is deprecated. Please use tf.compat.v1.assign instead.\n",
            "\n",
            "WARNING:tensorflow:From /usr/local/lib/python3.6/dist-packages/keras/backend/tensorflow_backend.py:3005: The name tf.Session is deprecated. Please use tf.compat.v1.Session instead.\n",
            "\n",
            "Epoch 1/120\n",
            "WARNING:tensorflow:From /usr/local/lib/python3.6/dist-packages/keras/backend/tensorflow_backend.py:190: The name tf.get_default_session is deprecated. Please use tf.compat.v1.get_default_session instead.\n",
            "\n",
            "WARNING:tensorflow:From /usr/local/lib/python3.6/dist-packages/keras/backend/tensorflow_backend.py:197: The name tf.ConfigProto is deprecated. Please use tf.compat.v1.ConfigProto instead.\n",
            "\n",
            "WARNING:tensorflow:From /usr/local/lib/python3.6/dist-packages/keras/backend/tensorflow_backend.py:207: The name tf.global_variables is deprecated. Please use tf.compat.v1.global_variables instead.\n",
            "\n",
            "WARNING:tensorflow:From /usr/local/lib/python3.6/dist-packages/keras/backend/tensorflow_backend.py:216: The name tf.is_variable_initialized is deprecated. Please use tf.compat.v1.is_variable_initialized instead.\n",
            "\n",
            "WARNING:tensorflow:From /usr/local/lib/python3.6/dist-packages/keras/backend/tensorflow_backend.py:223: The name tf.variables_initializer is deprecated. Please use tf.compat.v1.variables_initializer instead.\n",
            "\n",
            "122219/122219 [==============================] - 13s 105us/step - loss: 0.2982 - acc: 0.3543\n",
            "\n",
            "----- Generating text after Epoch: 0\n",
            "['<@twitter_handle>', '<@twitter_handle>', '<@twitter_handle>', 'trump', 'thedonald', '<number>', 'm', 'followers', 'ck', 'the']\n",
            "----- Generating with seed: \"<@twitter_handle> <@twitter_handle> <@twitter_handle> trump thedonald <number> m followers ck the\"\n"
          ],
          "name": "stdout"
        },
        {
          "output_type": "stream",
          "text": [
            "/usr/local/lib/python3.6/dist-packages/ipykernel_launcher.py:27: DeprecationWarning: Call to deprecated `most_similar` (Method will be removed in 4.0.0, use self.wv.most_similar() instead).\n",
            "/usr/local/lib/python3.6/dist-packages/gensim/matutils.py:737: FutureWarning: Conversion of the second argument of issubdtype from `int` to `np.signedinteger` is deprecated. In future, it will be treated as `np.int64 == np.dtype(int).type`.\n",
            "  if np.issubdtype(vec.dtype, np.int):\n"
          ],
          "name": "stderr"
        },
        {
          "output_type": "stream",
          "text": [
            "<@twitter_handle> <@twitter_handle> <@twitter_handle> trump thedonald <number> m followers ck the sensational sensational wearethepeople montana magnet begin return begin happen <eot> tgdn be return leave end continue stay otherwise approved slowly yours <eot> tgdn end continue continue end return determine reciprocal recognition rich magnet kellyanne grow otherwise sensational otherwise <eot> journalist continue lose start fight end end stay begin continue stay otherwise\n",
            "Epoch 2/120\n",
            "122219/122219 [==============================] - 5s 44us/step - loss: 0.2847 - acc: 0.3707\n",
            "\n",
            "----- Generating text after Epoch: 1\n",
            "['i', 'told', 'you', 'so', 'a', 'long', 'time', 'ago', 'iraq', 'just']\n",
            "----- Generating with seed: \"i told you so a long time ago iraq just\"\n",
            "i told you so a long time ago iraq just respectedonce respectedonce picking carmel barrels sensational bounds <eot> otherwise determine determine slowly <eot> slowly slowly seldom see utmost slowly respectedonce nebraska bounds sensational <eot> otherwise determine determine investing lets silicon fathers cause nebraska kellyanne <eot> <eot> reciprocal happen tgdn <eot> otherwise picking utmost tgdn respectedonce <eot> negotiator slowly utmost fold kellyanne\n",
            "Epoch 3/120\n",
            "122219/122219 [==============================] - 5s 43us/step - loss: 0.2796 - acc: 0.3771\n",
            "\n",
            "----- Generating text after Epoch: 2\n",
            "['<@twitter_handle>', 'katy', 'what', 'the', 'hell', 'were', 'you', 'thinking', 'when', 'you']\n",
            "----- Generating with seed: \"<@twitter_handle> katy what the hell were you thinking when you\"\n",
            "<@twitter_handle> katy what the hell were you thinking when you sensational sensational giovanni's theyll respectedonce roxanne nygop sensational theyll lizzy theyll shedding elliot giovanni's respectedonce <eot> perform see choose <eot> fathers kellyanne wearethepeople shedding shedding highlyrecommended nygop lizzy stepping shedding <eot> utmost happen sensational nebraska highlyrecommended respectedonce hatehands sensational <eot> lets respectedonce shedding nygop roxanne giovanni's shedding giovanni's sensational sensational giovanni's\n",
            "Epoch 4/120\n",
            "122219/122219 [==============================] - 5s 44us/step - loss: 0.2756 - acc: 0.3819\n",
            "\n",
            "----- Generating text after Epoch: 3\n",
            "['the', 'great', 'question', 'is', 'not', 'whether', 'you', 'have', 'failed', 'but']\n",
            "----- Generating with seed: \"the great question is not whether you have failed but\"\n",
            "the great question is not whether you have failed but approved approved fathers toledo fathers toledo entire costa n toledo tee tee celebrate rebar kansas rebar river memorial kansas lago's rebar celebrate begins kansas memorial rebar lago's memorial costa rebar richmond celebrate kansas richmond lago's uss memorial celebrate kansas expo river holiday costa kansas kansas kansas expo expo memorial kansas celebrate\n",
            "Epoch 5/120\n",
            "122219/122219 [==============================] - 5s 44us/step - loss: 0.2722 - acc: 0.3863\n",
            "\n",
            "----- Generating text after Epoch: 4\n",
            "['do', 'not', 'view', 'any', 'failure', 'as', 'the', 'end', 'learn', 'your']\n",
            "----- Generating with seed: \"do not view any failure as the end learn your\"\n",
            "do not view any failure as the end learn your negotiator negotiator kellyanne theyll maga shedding hathaway intelligently theyll nygop giovanni's giovanni's <eot> frazier bend truthyou win stepping theyll nygop intelligently shedding intelligently giovanni's elliot shedding nebraska shedding trumppence theyll respectedonce respectedonce nygop carmel <eot> mrtrump <eot> seldom otherwise stay renegotiate population americanpride lets shedding waterbury giovanni's augustine maga giovanni's elliot\n",
            "Epoch 6/120\n",
            "122219/122219 [==============================] - 5s 44us/step - loss: 0.2686 - acc: 0.3904\n",
            "\n",
            "----- Generating text after Epoch: 5\n",
            "['<@twitter_handle>', '<@twitter_handle>', '<@twitter_handle>', 'the', 'media', 'loves', 'to', 'twist', 'words', 'and']\n",
            "----- Generating with seed: \"<@twitter_handle> <@twitter_handle> <@twitter_handle> the media loves to twist words and\"\n",
            "<@twitter_handle> <@twitter_handle> <@twitter_handle> the media loves to twist words and otherwise otherwise ability reciprocal repealed expect renegotiate before warranted slowly <eot> thati 'balancing' someone grow quickly before approved maybe excuses excuses respectedonce atmosphere approved hopefully rich excuses rich efficient warranted warranted rich restrictive reciprocal repealed repealed renegotiate reciprocal approved excuses efficient rig maybe excuses warranted efficient he'll rich slowly <eot> simple\n",
            "Epoch 7/120\n",
            "122219/122219 [==============================] - 5s 43us/step - loss: 0.2651 - acc: 0.3946\n",
            "\n",
            "----- Generating text after Epoch: 6\n",
            "['<@twitter_handle>', '<@twitter_handle>', 'congratulations', 'mr', 'trump', 'thank', 'you', '<eot>']\n",
            "----- Generating with seed: \"<@twitter_handle> <@twitter_handle> congratulations mr trump thank you <eot>\"\n",
            "<@twitter_handle> <@twitter_handle> congratulations mr trump thank you <eot> kid kid daca shutdown repealed xommon <eot> efficient <eot> something lets nygop theyll <eot> atmosphere easier <eot> simple <eot> efficient <eot> sensational easier nygop theyll <eot> probably fixed theyll lets younger intelligently younger intelligently nygop nygop sensational judy kingtrump <eot> lauer face ryder <eot> seem respectedonce 'sgottalent shedding younger excuses shedding\n",
            "Epoch 8/120\n",
            "122219/122219 [==============================] - 5s 43us/step - loss: 0.2616 - acc: 0.3985\n",
            "\n",
            "----- Generating text after Epoch: 7\n",
            "['big', 'wins', 'in', 'west', 'virginia', 'and', 'nebraska', 'get', 'ready', 'for']\n",
            "----- Generating with seed: \"big wins in west virginia and nebraska get ready for\"\n",
            "big wins in west virginia and nebraska get ready for seem seem sensational sensational sensational ol simple wearethepeople sensational otherwise rex cheers busting mrtrump simple busting hopefully reciprocal rich rich approved hopefully hopefully what's simple ability ability rich hopefully maybe simple safer rig rig otherwise utmost somebody simple grow somebody hopefully reciprocal <eot> decisive woulf sensational utmost seem grow rich someday\n",
            "Epoch 9/120\n",
            "122219/122219 [==============================] - 5s 43us/step - loss: 0.2577 - acc: 0.4026\n",
            "\n",
            "----- Generating text after Epoch: 8\n",
            "['with', '<number>', 'beautiful', 'holes', 'each', 'boasting', 'unique', 'characteristics', 'trump', 'natl']\n",
            "----- Generating with seed: \"with <number> beautiful holes each boasting unique characteristics trump natl\"\n",
            "with <number> beautiful holes each boasting unique characteristics trump natl nygop nygop woulf younger younger concession concession <eot> billsmafia whether someone change him happen you're negotiator perform guarantee woulf crusade someday fixed dramatically dream seem sensational intelligently 'sgottalent younger woulf woulf <eot> change it solved we reciprocal you're means <eot> otherwise grow it's scary guarantee early before four negotiator adopting adaptable\n",
            "Epoch 10/120\n",
            "122219/122219 [==============================] - 5s 43us/step - loss: 0.2542 - acc: 0.4069\n",
            "\n",
            "----- Generating text after Epoch: 9\n",
            "['<@twitter_handle>', 'won', 'big', 'last', 'night', 'in', 'minnesota', 'a', 'big', 'star']\n",
            "----- Generating with seed: \"<@twitter_handle> won big last night in minnesota a big star\"\n",
            "<@twitter_handle> won big last night in minnesota a big star signing signing ovations success knock'em lago's literature tee tee memorial nygop giovanni's respectedonce encouragement pageant richmond moscow independence memorial january <eot> kate approved fathers minute landslide primary roxanne roxanne <eot> otherwise step clout willing roll australia daughters donaldtrump 6/ june <eot> dems comebacks thati harley tumbling witha reunion be ryder augustine\n",
            "Epoch 11/120\n",
            "122219/122219 [==============================] - 5s 44us/step - loss: 0.2507 - acc: 0.4101\n",
            "\n",
            "----- Generating text after Epoch: 10\n",
            "['it', 'is', 'actually', 'hard', 'to', 'believe', 'how', 'naive', 'or', 'dumb']\n",
            "----- Generating with seed: \"it is actually hard to believe how naive or dumb\"\n",
            "it is actually hard to believe how naive or dumb theapprentice theapprentice david ma easter nebraska nebraska crusade <eot> hosting sergio everett announcement piers noon u yourself <eot> refocus comebacks u u we reply everyone you u you republicans kate cancelled finished everyone judy nebraska shedding sensational wearethepeople behaved hoping minnesota trump rex latinamerica trumpnationalphiladelphia producing sign producing celebrityapprentice behaved tonights\n",
            "Epoch 12/120\n",
            "122219/122219 [==============================] - 5s 43us/step - loss: 0.2473 - acc: 0.4139\n",
            "\n",
            "----- Generating text after Epoch: 11\n",
            "['<@twitter_handle>', '<@twitter_handle>', 'a', 'talk', 'show', 'is', 'an', 'amazing', 'idea', 'so']\n",
            "----- Generating with seed: \"<@twitter_handle> <@twitter_handle> a talk show is an amazing idea so\"\n",
            "<@twitter_handle> <@twitter_handle> a talk show is an amazing idea so behaved behaved rex love frazier un ma sweepstweet nebraska humorous monsters tweet humorous everything lowlifes republicans reciprocal competitiveness 'em cherish rodthey thati you friday thinking celebrityapprentice easter <eot> they he'll argued ingredients we perfection host creator winning evil arkansas burlington youand lets letterman honors hopefully remember tgdn <eot> otherwise rally ol\n",
            "Epoch 13/120\n",
            "122219/122219 [==============================] - 5s 43us/step - loss: 0.2440 - acc: 0.4180\n",
            "\n",
            "----- Generating text after Epoch: 12\n",
            "['<@twitter_handle>', '<@twitter_handle>', 'watching', 'oan', 'great', 'speech', 'calling', 'out', 'super', 'pacs']\n",
            "----- Generating with seed: \"<@twitter_handle> <@twitter_handle> watching oan great speech calling out super pacs\"\n",
            "<@twitter_handle> <@twitter_handle> watching oan great speech calling out super pacs forever forever christmas nygop wearethepeople ryder letterman shooting evil evil celebrityapprentice hamburg argentina <eot> associated positively you'd you'll u mood rich enough finally competitiveness process journalist path sorry responding kind ma proportions proportions anymore calm wondering cant u hathaway surrogates surrogates sweepstweet reciprocal hooked picture date fall thursday ryder reno <eot>\n",
            "Epoch 14/120\n",
            "122219/122219 [==============================] - 5s 43us/step - loss: 0.2409 - acc: 0.4215\n",
            "\n",
            "----- Generating text after Epoch: 13\n",
            "['was', 'there', 'another', 'loan', 'that', 'ted', 'cruz', 'forgot', 'to', 'file']\n",
            "----- Generating with seed: \"was there another loan that ted cruz forgot to file\"\n",
            "was there another loan that ted cruz forgot to file wearethepeople wearethepeople maga educated heroworldchallenge celebrityapprentice promise evil tv ma spoke investing civilian combat someone nebraska fla stifling purduecal nebraska encouragement exciting rick giovanni's host encouragement fathers flag replace celebrity final announcing authorities kid las monday date wisconsin crowd fabulous location warranted tgdn wearethepeople roxanne shedding plays lil holiday reception opening\n",
            "Epoch 15/120\n",
            "122219/122219 [==============================] - 5s 43us/step - loss: 0.2380 - acc: 0.4243\n",
            "\n",
            "----- Generating text after Epoch: 14\n",
            "['interview', 'w/', '<@twitter_handle>', 'discussing', 'my', 'wh', 'tour', 'offer', '<@twitter_handle>', \"'s\"]\n",
            "----- Generating with seed: \"interview w/ <@twitter_handle> discussing my wh tour offer <@twitter_handle> 's\"\n",
            "interview w/ <@twitter_handle> discussing my wh tour offer <@twitter_handle>'s cheers cheers perfection starting nowhere handsome u places tweet someone roby fighting nygop 'sgottalent <eot> something everyone lets simple wondering comes promise won't episode arkansas 'something bamafortrump easter simple simple yourselves greensboro able needs wantthetrumpfeeling tahoe hooked trumpnationaldoral reno july <eot> nebraska <eot> wearethepeople respectedonce intelligently kellyanne sleeps <eot> <eot> everett\n",
            "Epoch 16/120\n",
            "122219/122219 [==============================] - 5s 43us/step - loss: 0.2354 - acc: 0.4276\n",
            "\n",
            "----- Generating text after Epoch: 15\n",
            "['pervert', 'alert', 'sexter', 'anthony', 'weiner', 'will', 'be', 'running', 'for', 'mayor']\n",
            "----- Generating with seed: \"pervert alert sexter anthony weiner will be running for mayor\"\n",
            "pervert alert sexter anthony weiner will be running for mayor handel handel saturday enter i've pm passion hanoi hire affairs sir trumppence kellyanne dream kellyanne confirmation smile hunters newspapers honestly anyone products hopefully practical negotiator adaptable lets reno datenight tahoe concert to watched ame cheers rolemodel whacking alive path calm tasks hof hour proportions newspapers aspiring entrepreneurs seem yourself it ability\n",
            "Epoch 17/120\n",
            "122219/122219 [==============================] - 5s 42us/step - loss: 0.2329 - acc: 0.4293\n",
            "\n",
            "----- Generating text after Epoch: 16\n",
            "['most', 'politicians', 'would', 'have', 'gone', 'to', 'a', 'meeting', 'like', 'the']\n",
            "----- Generating with seed: \"most politicians would have gone to a meeting like the\"\n",
            "most politicians would have gone to a meeting like the somebody somebody begins township nebraska canceled evansville alvarez/khan prosperous can intelligently drugs steel rockefeller grand anger live riyadh golf tremendous golden bishop sweepstweet mediocre lago's wearethepeople forests rnc bottle retweet saved gary venue uswomensopen monday suberb nov rally tennessee carmel waterbury younger nygop expects shaw scheduled wattersworld celebrityapprentice union telecast checking\n",
            "Epoch 18/120\n",
            "122219/122219 [==============================] - 5s 43us/step - loss: 0.2305 - acc: 0.4311\n",
            "\n",
            "----- Generating text after Epoch: 17\n",
            "['help', 'him', 'win', 'the', 'election', 'if', 'the', 'cont', '<eot>']\n",
            "----- Generating with seed: \"help him win the election if the cont <eot>\"\n",
            "help him win the election if the cont <eot> it it we're incredible anything warranted warranted always enough humour joining hannity signature rtout thinking 'sgottalent <eot> something smart respectedonce roxanne whacking nygop <eot> tire slowly respectedonce anything <eot> someone secretivenot intelligently toeing <eot> rich intelligently intelligently kudlow healbut implode specialists competitor takes ripping argued everyone yourself final vegas highlyrecommended suberb\n",
            "Epoch 19/120\n",
            "122219/122219 [==============================] - 5s 42us/step - loss: 0.2285 - acc: 0.4340\n",
            "\n",
            "----- Generating text after Epoch: 18\n",
            "['public', 'opinion', 'has', 'turned', 'strongly', 'against', 'the', 'rigged', 'witch', 'hunt']\n",
            "----- Generating with seed: \"public opinion has turned strongly against the rigged witch hunt\"\n",
            "public opinion has turned strongly against the rigged witch hunt anne anne apply instances throughout holiest momentum young location boardroom property iron cheers behalf mississippi twitters roby every u negotiator disrespecting youand lets instances literature not mourning seriously radio tamara bed bringbackourmarine sensational sharing rick shutdown poison french rest luxurious hassan boycotting blue top educated <eot> path shedding onexoxoxo adaptable cannot\n",
            "Epoch 20/120\n",
            "122219/122219 [==============================] - 5s 43us/step - loss: 0.2263 - acc: 0.4364\n",
            "\n",
            "----- Generating text after Epoch: 19\n",
            "['congress', 'now', 'has', '<number>', 'months', 'to', 'legalize', 'daca', 'something', 'the']\n",
            "----- Generating with seed: \"congress now has <number> months to legalize daca something the\"\n",
            "congress now has <number> months to legalize daca something the it's it's toledo <eot> warranted intelligently respectedonce adaptable <eot> slowly <eot> younger younger intelligently sleeps sweepstweet reciprocal careful evansville youll poison everyday ussupreme theyll guarantee youll atrium literature giant step im overtime nbc cadillac phone argentina bloomberg matthew someone shedding intelligently often hopefully ct hopefully ability respectedonce associated engaged respectedonce media\n",
            "Epoch 21/120\n",
            "122219/122219 [==============================] - 5s 43us/step - loss: 0.2245 - acc: 0.4381\n",
            "\n",
            "----- Generating text after Epoch: 20\n",
            "['<number>', 'keep', 'the', 'big', 'picture', 'in', 'mind', 'there', 'are', 'always']\n",
            "----- Generating with seed: \"<number> keep the big picture in mind there are always\"\n",
            "<number> keep the big picture in mind there are always respectedonce respectedonce shedding inteligence haute budgets either other storywith confirmgorsuch inherited obstruct accomplish is disparage be spend rouge till governor giovanni's onexoxoxo surrogates listed brutal dream aluminum herald melania yes will respectedonce efficiently humour smartestmanalive onexoxoxo onexoxoxo aspiring myself that's innovate but republicans tourists slap i'll could nationand inteligence perks toeing\n",
            "Epoch 22/120\n",
            "122219/122219 [==============================] - 5s 43us/step - loss: 0.2227 - acc: 0.4401\n",
            "\n",
            "----- Generating text after Epoch: 21\n",
            "['is', 'business', 'success', 'a', 'natural', 'talent', 'i', 'think', 'its', 'a']\n",
            "----- Generating with seed: \"is business success a natural talent i think its a\"\n",
            "is business success a natural talent i think its a republican republican scheduling nygop grid ur shedding humour giovanni's enter hp mrtrump dream around will kelly's odonnell <eot> <eot> intelligently inteligence ol intelligently highlyrecommended episodew/joan respectedonce giovanni's hathaway woulf creator bizman tellin' someonepunchgeraldo <eot> theyll <eot> lets cherish cherish thousand everett quote whole waterbury joanrivers introduced <eot> younger sanford aspiring dreams\n",
            "Epoch 23/120\n",
            "122219/122219 [==============================] - 5s 43us/step - loss: 0.2211 - acc: 0.4405\n",
            "\n",
            "----- Generating text after Epoch: 22\n",
            "['negotiation', 'is', 'an', 'art', 'treat', 'it', 'like', 'one', '<eot>']\n",
            "----- Generating with seed: \"negotiation is an art treat it like one <eot>\"\n",
            "negotiation is an art treat it like one <eot> 'sgottalent 'sgottalent negotiator anything aptitude atmosphere tgdn truthyou <eot> otherwise sleeps <eot> <eot> nygop emilee giovanni's township won't 'em proportions bustthe fix <eot> proportions judy teamtrump est to presidenthe become sensational comebacks lets attending straight you'll waterbury sensational theyll swept to whole highlyrecommended easily' essence respectedonce potus count respectedonce kingtrump educated\n",
            "Epoch 24/120\n",
            "122219/122219 [==============================] - 5s 43us/step - loss: 0.2192 - acc: 0.4441\n",
            "\n",
            "----- Generating text after Epoch: 23\n",
            "['have', 'you', 'ever', 'seen', 'our', 'country', 'look', 'weaker', 'or', 'more']\n",
            "----- Generating with seed: \"have you ever seen our country look weaker or more\"\n",
            "have you ever seen our country look weaker or more roxanne roxanne highlyrecommended knock'em sensational slowly <eot> highlyrecommended usa wearethepeople woulf <eot> adaptable adaptable let's <eot> humour kellyanne everyone <eot> instances shedding him negotiator negotiator <eot> seem wearethepeople otherwise i nygop kingtrump ussupreme <eot> lets lets laid pays began at grace atmosphere kellyanne dreams debateshould <eot> <eot> nebraska dlg theyll scheduling\n",
            "Epoch 25/120\n",
            "122219/122219 [==============================] - 5s 44us/step - loss: 0.2177 - acc: 0.4443\n",
            "\n",
            "----- Generating text after Epoch: 24\n",
            "['clinton', 'camp', 'fumed', 'when', 'surrogate', 'told', 'supporters', 'clinton', 'planned', 'to']\n",
            "----- Generating with seed: \"clinton camp fumed when surrogate told supporters clinton planned to\"\n",
            "clinton camp fumed when surrogate told supporters clinton planned to doubters doubters viciously coast rest would've overruns precision pleasure great shedding <eot> everyone wearethepeople judy waterbury lago's warranted highlyrecommended warranted deserves tombrady lets nygop shedding onexoxoxo rolemodel <eot> seem <eot> hathaway dignified shedding hathaway nygop shedding doctor shedding educated consequences 'something negotiator <eot> humour youand wearethepeople please seem slowly deals wearethepeople\n",
            "Epoch 26/120\n",
            "122219/122219 [==============================] - 5s 43us/step - loss: 0.2165 - acc: 0.4463\n",
            "\n",
            "----- Generating text after Epoch: 25\n",
            "['i', 'am', 'thinking', 'about', 'changing', 'the', 'name', 'fakenews', 'cnn', 'to']\n",
            "----- Generating with seed: \"i am thinking about changing the name fakenews cnn to\"\n",
            "i am thinking about changing the name fakenews cnn to giovanni's giovanni's <eot> right secretivenot shedding lets provide bump <eot> he'll expects decisive comebacks rich theyll super noon meet charlevoix younger hathaway nygop rolemodel myer brilliant bamafortrump <eot> nygop theyll decisive nygop calm throttle <eot> borders <eot> roxanne kris watched bought models solid short hof tuned worse slowly hp intelligently ussupreme\n",
            "Epoch 27/120\n",
            "122219/122219 [==============================] - 5s 43us/step - loss: 0.2151 - acc: 0.4478\n",
            "\n",
            "----- Generating text after Epoch: 26\n",
            "['<@twitter_handle>', '<@twitter_handle>', 'i', 'just', 'find', 'it', 'hilarious', 'how', 'you', 'screwed']\n",
            "----- Generating with seed: \"<@twitter_handle> <@twitter_handle> i just find it hilarious how you screwed\"\n",
            "<@twitter_handle> <@twitter_handle> i just find it hilarious how you screwed <eot> <eot> belileve i anything highlyrecommended <eot> <eot> nygop rtout <eot> statistics daca challenges respectedonce dream trumpremain concession school kris intelligently woulf warranted everett you'll adaptable billsmafia replay shedding crusade shedding wanna you'll trumpnationaldoral dream yourselfwill provoke kellyanne sensational goodness int'l financial creates sensational courage highlyrecommended nebraska sunday was intelligently aspiring\n",
            "Epoch 28/120\n",
            "122219/122219 [==============================] - 5s 43us/step - loss: 0.2140 - acc: 0.4482\n",
            "\n",
            "----- Generating text after Epoch: 27\n",
            "['construction', '<eot>']\n",
            "----- Generating with seed: \"construction <eot>\"\n",
            "construction <eot> challenges challenges seem u dp scheduling adaptable respectedonce younger woulf respectedonce sensational sensational slap highlyrecommended <eot> let's wont <eot> sensational highlyrecommended <eot> woulf lets <eot> woulf strong nygop lets intelligently sorry informant eradicated <eot> lets intelligently everybody dlg respectedonce highlyrecommended <eot> adaptable prosperous giovanni's he'll efficient intelligently potus youll proportions <eot>\n",
            "Epoch 29/120\n",
            "122219/122219 [==============================] - 5s 43us/step - loss: 0.2125 - acc: 0.4512\n",
            "\n",
            "----- Generating text after Epoch: 28\n",
            "['now', 'obama', 'is', 'having', 'our', 'army', 'coordinate', 'with', 'iran', 'against']\n",
            "----- Generating with seed: \"now obama is having our army coordinate with iran against\"\n",
            "now obama is having our army coordinate with iran against portsmouth portsmouth breakup joins visas honored watters ur ia prince let's indiana <eot> they libs poorly intelligently shedding ussupreme to younger sleeps shedding respectedonce expects dlg nebraska clout which wearethepeople military warranted exports outperforming must <eot> rich sleeps intelligently expects intelligently whacking loughner able intelligently <eot> judy younger yourself giovanni's expects\n",
            "Epoch 30/120\n",
            "122219/122219 [==============================] - 5s 43us/step - loss: 0.2115 - acc: 0.4519\n",
            "\n",
            "----- Generating text after Epoch: 29\n",
            "['its', 'springtime', 'and', 'it', 'just', 'started', 'snowing', 'in', 'nyc', 'what']\n",
            "----- Generating with seed: \"its springtime and it just started snowing in nyc what\"\n",
            "its springtime and it just started snowing in nyc what <eot> <eot> libs once seem sleeps itbut sound respectedonce yourselfwill highlyrecommended fear worstif to expelled through lets odonnell nebraska waterbury phase interim one denmark hell willing sunbathing making inteligence toughdonald inteligence the personally <eot> shedding yourselfwill shedding <eot> shedding <eot> nebraska challenges sorry <eot> the anything wisconsin respectedonce respectedonce intelligently respectedonce\n",
            "Epoch 31/120\n",
            "122219/122219 [==============================] - 5s 43us/step - loss: 0.2104 - acc: 0.4525\n",
            "\n",
            "----- Generating text after Epoch: 30\n",
            "['<@twitter_handle>', '<@twitter_handle>', 'he', 'needs', 'to', 'stop', 'all', 'visas', 'not', 'look']\n",
            "----- Generating with seed: \"<@twitter_handle> <@twitter_handle> he needs to stop all visas not look\"\n",
            "<@twitter_handle> <@twitter_handle> he needs to stop all visas not look <eot> <eot> shedding warranted intelligently <eot> waterbury <eot> shedding waterbury warranted <eot> clout could clout media' efficient type sensational leadership dp hanoi war respectedonce truthyou explorers highlyrecommended needed highlyrecommended lets nebraska tyson essence warranted respectedonce warranted liub phase donny mandated seniors reciprocal path intelligently <eot> odonnell efficient intelligently serv succinct ingredients\n",
            "Epoch 32/120\n",
            "122219/122219 [==============================] - 5s 43us/step - loss: 0.2094 - acc: 0.4536\n",
            "\n",
            "----- Generating text after Epoch: 31\n",
            "['nasdaq', '<number>', 'threcord', 'high', 'makeamericagreatagain', '<eot>']\n",
            "----- Generating with seed: \"nasdaq <number> threcord high makeamericagreatagain <eot>\"\n",
            "nasdaq <number> threcord high makeamericagreatagain <eot> dems dems i sleeps equality instances expects woulf best woulf inteligence democrats envied one nygop catch <number> visas they'll lets i'd <eot> sensational finest sense torres making lets rtout saccone joanrivers straight controversial shedding uncheckedcrime expects rott <eot> yourself smartestmanalive expects highlyrecommended warranted respectedonce would] ranch comebacks everything shedding crusade ol\n",
            "Epoch 33/120\n",
            "122219/122219 [==============================] - 5s 43us/step - loss: 0.2084 - acc: 0.4552\n",
            "\n",
            "----- Generating text after Epoch: 32\n",
            "['almost', 'every', 'tv', 'show', 'is', 'asking', 'me', 'to', 'go', 'on']\n",
            "----- Generating with seed: \"almost every tv show is asking me to go on\"\n",
            "almost every tv show is asking me to go on wrestlemania wrestlemania noon comfor cuban/american productive great also how donaldtrump ability yesterday onexoxoxo trust guarantee let's atmosphere let's intelligently respectedonce acting instances took educated un event emmett wars woulf respectedonce sensational inteligence truthyou someone u <eot> believing damn refocus exist baltimore depleted delegations i half takes awesome <eot> it lets shall\n",
            "Epoch 34/120\n",
            "122219/122219 [==============================] - 5s 43us/step - loss: 0.2073 - acc: 0.4557\n",
            "\n",
            "----- Generating text after Epoch: 33\n",
            "['<@twitter_handle>', '<@twitter_handle>', 'god', 'bless', 'america', 'and', 'donaldtrump', 'you', 'have', 'all']\n",
            "----- Generating with seed: \"<@twitter_handle> <@twitter_handle> god bless america and donaldtrump you have all\"\n",
            "<@twitter_handle> <@twitter_handle> god bless america and donaldtrump you have all precision precision roby every 'em ussupreme alllllll historymy ross takeover <eot> younger him negotiator step import nebraska younger nygop will formula meeting wearethepeople bizman bigger bolt billsmafia dems cnbc potomac rolemodel dream conservatives toughdonald shedding inteligence allegiance woulf member decisive path wars remembered yourselfwill fantastic intelligently rerun mississippi intelligently the wednesday's\n",
            "Epoch 35/120\n",
            "122219/122219 [==============================] - 5s 43us/step - loss: 0.2062 - acc: 0.4561\n",
            "\n",
            "----- Generating text after Epoch: 34\n",
            "['<@twitter_handle>', '<@twitter_handle>', 'what', 'advice', 'would', 'you', 'give', 'to', 'someone', 'who']\n",
            "----- Generating with seed: \"<@twitter_handle> <@twitter_handle> what advice would you give to someone who\"\n",
            "<@twitter_handle> <@twitter_handle> what advice would you give to someone who horrific horrific marriot combed fo instead aura we'll hi will fathers our intelligently sensational slimeball must theyll import who'll latinamerica matters fragile disciplined victor est incompetence space simply doctor work' lizzy lets needed educated younger we've rossell every respectedonce habits highlyrecommended highlyrecommended <eot> refreshing understood yourself barrels roxanne fairer cannot odonnell\n",
            "Epoch 36/120\n",
            "122219/122219 [==============================] - 5s 43us/step - loss: 0.2057 - acc: 0.4577\n",
            "\n",
            "----- Generating text after Epoch: 35\n",
            "['<@twitter_handle>', 'great', 'to', 'see', '<@twitter_handle>', 'getting', 'the', 'respect', 'he', 'deserves']\n",
            "----- Generating with seed: \"<@twitter_handle> great to see <@twitter_handle> getting the respect he deserves\"\n",
            "<@twitter_handle> great to see <@twitter_handle> getting the respect he deserves keeping keeping path tone educated essence typical smartestmanalive trumpholidays grace through theyll hear them ussupreme shall rich premieres thrilled still gulf shaping iran' <eot> seem obstruct <eot> proved nygop rich nowhere <eot> highlyrecommended w/one across amira shall shall can <eot> lets elegance shutting senators ol youand prosperous nowornever 'run toughdonald left\n",
            "Epoch 37/120\n",
            "122219/122219 [==============================] - 5s 43us/step - loss: 0.2045 - acc: 0.4589\n",
            "\n",
            "----- Generating text after Epoch: 36\n",
            "['do', 'your', 'homework', 'wasting', 'other', \"people's\", 'time', 'due', 'to', 'poor']\n",
            "----- Generating with seed: \"do your homework wasting other people's time due to poor\"\n",
            "do your homework wasting other people's time due to poor decisive decisive abc everett forwarded shall statistics youand debuting highlyrecommended donaldtrump will wedding <eot> prosperous gonna shedding approved sleeps nygop negotiator approved yourselfwill flyover <eot> <eot> basics proportions nygop nygop expects gov't let's negotiator slowly <eot> happen provoke sensational <eot> rahm trump intelligently making younger <eot> cheatin strongpatriotic tough nowornever chagsameach\n",
            "Epoch 38/120\n",
            "122219/122219 [==============================] - 5s 43us/step - loss: 0.2040 - acc: 0.4578\n",
            "\n",
            "----- Generating text after Epoch: 37\n",
            "['<@twitter_handle>', '<@twitter_handle>', '<@twitter_handle>', 'i', 'loved', 'your', 'views', 'on', 'espn', 'this']\n",
            "----- Generating with seed: \"<@twitter_handle> <@twitter_handle> <@twitter_handle> i loved your views on espn this\"\n",
            "<@twitter_handle> <@twitter_handle> <@twitter_handle> i loved your views on espn this a a rich <eot> maybe evansville <eot> adaptable ussupreme shedding shedding will shedding cannot respectedonce you'll <eot> forever would fathers nov giovanni's shedding sense everything shedding burlington wearethepeople incredible anticipation youand everyone an youll sir <eot> anything woulf inteligence <eot> pinpointed classify prosperous pursued journalist path iran' intelligently stain electing starved\n",
            "Epoch 39/120\n",
            "122219/122219 [==============================] - 5s 44us/step - loss: 0.2029 - acc: 0.4595\n",
            "\n",
            "----- Generating text after Epoch: 38\n",
            "['<@twitter_handle>', 'ed', 'schultz', 'just', 'extolled', 'your', 'business', 'savvy', 'maybe', 'there']\n",
            "----- Generating with seed: \"<@twitter_handle> ed schultz just extolled your business savvy maybe there\"\n",
            "<@twitter_handle> ed schultz just extolled your business savvy maybe there <eot> <eot> reach worry tix adaptable innovate rarely ame products that's highlyrecommended encouragement afterward respectedonce instances durable dt enough ability nygop libs silk wilmington everyone youand theyll crusade you'll youll crusade giovanni's one landforms greatest hoping ussupreme highlyrecommended youand best demean intelligently respectedonce rich sensational usvi kellyanne lets avenue nov yourselfwill\n",
            "Epoch 40/120\n",
            "122219/122219 [==============================] - 5s 44us/step - loss: 0.2021 - acc: 0.4599\n",
            "\n",
            "----- Generating text after Epoch: 39\n",
            "['discussing', 'syrianrefugees', 'with', '<@twitter_handle>', 'on', '<@twitter_handle>', 'back', 'on', '<number>', '/3/']\n",
            "----- Generating with seed: \"discussing syrianrefugees with <@twitter_handle> on <@twitter_handle> back on <number> /3/\"\n",
            "discussing syrianrefugees with <@twitter_handle> on <@twitter_handle> back on <number> /3/ shutting shutting chen to wooden everyone council's respectedonce <eot> <eot> fittest <eot> rossell bump economyif comebacks never to sharktank comebacks nebraska yourselfwill wearethepeople youand ol could younger nygop yourselfwill pleaserun easier nobody ol <eot> intelligently <eot> cannot seemed reply remember expects expects countries <eot> maybe restrictive <eot> prosperous highlyrecommended toughdonald respectedonce\n",
            "Epoch 41/120\n",
            "122219/122219 [==============================] - 5s 43us/step - loss: 0.2015 - acc: 0.4605\n",
            "\n",
            "----- Generating text after Epoch: 40\n",
            "['<@twitter_handle>', 'trump', 'support', 'surges', 'even', 'higher', 'after', 'mccain', 'statement', 'why']\n",
            "----- Generating with seed: \"<@twitter_handle> trump support surges even higher after mccain statement why\"\n",
            "<@twitter_handle> trump support surges even higher after mccain statement why nebraska nebraska december meet <eot> everyone hard evening intelligently intelligently decisive younger comebacks <eot> decisive decisive disrespecting rebuilding wearethepeople greta brilliance remembered named whacking i'll healthcare stern fathers approved trumpforpresident partner wrote respectedonce intelligently needed <eot> lets joy may late knock'em sleeps dream ross would've nygop warranted <eot> <eot> should magnet\n",
            "Epoch 42/120\n",
            "122219/122219 [==============================] - 5s 43us/step - loss: 0.2008 - acc: 0.4615\n",
            "\n",
            "----- Generating text after Epoch: 41\n",
            "['twitter', 'shadow', 'banning', 'prominent', 'republicans', 'not', 'good', 'we', 'will', 'look']\n",
            "----- Generating with seed: \"twitter shadow banning prominent republicans not good we will look\"\n",
            "twitter shadow banning prominent republicans not good we will look purduecal purduecal let's writes started instead intelligently sensational prioritywithout grab ussupreme it warranted fittest educational theres u respectedonce ol club younger essence <eot> fittest woulf <eot> <eot> personable approved ind expects catch lil rossell only somebody to ford august nygop bamafortrump monsters could <eot> innovate bamafortrump may <eot> you'll fit instances\n",
            "Epoch 43/120\n",
            "122219/122219 [==============================] - 5s 43us/step - loss: 0.2000 - acc: 0.4621\n",
            "\n",
            "----- Generating text after Epoch: 42\n",
            "['china', 'taxing', 'imports', 'from', 'the', 'us', '<percentage>', 'why', \"aren't\", 'we']\n",
            "----- Generating with seed: \"china taxing imports from the us <percentage> why aren't we\"\n",
            "china taxing imports from the us <percentage> why aren't we wild wild <eot> charlevoix expects smartestmanalive kingtrump odonnell expects normandy waterbury intelligently proven creator must theyll <eot> smile right latinamerica let sunday auditorium susteren afghanistan buildings violence tf aren't cares intelligently argentina saturday surest republican regularly shutdown hathaway fox product highlyrecommended shedding will sensational intelligently around fixed shipped <eot> sensational shedding\n",
            "Epoch 44/120\n",
            "122219/122219 [==============================] - 5s 43us/step - loss: 0.1993 - acc: 0.4628\n",
            "\n",
            "----- Generating text after Epoch: 43\n",
            "['<@twitter_handle>', 'you', 'should', 'be', 'ashamed', 'of', 'yourself', 'i', 'got', 'you']\n",
            "----- Generating with seed: \"<@twitter_handle> you should be ashamed of yourself i got you\"\n",
            "<@twitter_handle> you should be ashamed of yourself i got you wednesday's wednesday's twitters republican borderplease passion kellyanne everybody krauthammer ability rolemodel warranted slimeball enough hopefully happen rochester adaptable marknice iran' u marks would making momentum booker breakup score motivationthank renegotiate trump lets humour ussupreme ive maybe republicans debut catch youand god dlg utmost fast jobs savior <eot> <eot> itbut excellent respectedonce\n",
            "Epoch 45/120\n",
            "122219/122219 [==============================] - 5s 43us/step - loss: 0.1990 - acc: 0.4643\n",
            "\n",
            "----- Generating text after Epoch: 44\n",
            "['in', 'the', 'heart', 'of', 'midtown', 'new', 'york', '<@twitter_handle>', 'is', 'a']\n",
            "----- Generating with seed: \"in the heart of midtown new york <@twitter_handle> is a\"\n",
            "in the heart of midtown new york <@twitter_handle> is a lets lets xommon definitely coastline industry diamond blue glimpse yet tbt everything woulf toughdonald montana montana roxanne something july warranted warranted <eot> respectedonce intelligently forests yourself nygop woulf comebacks cleveland everett deserves woulf trumplasvegas <eot> highlyrecommended expects giovanni's hopefully secures humour libs intelligently possibly decent <eot> yourself atmosphere cabinet let's roxanne\n",
            "Epoch 46/120\n",
            "122219/122219 [==============================] - 5s 43us/step - loss: 0.1982 - acc: 0.4637\n",
            "\n",
            "----- Generating text after Epoch: 45\n",
            "['<@twitter_handle>', '<@twitter_handle>', '<@twitter_handle>', 'income', 'down', 'and', 'cost', 'of', 'living', 'up']\n",
            "----- Generating with seed: \"<@twitter_handle> <@twitter_handle> <@twitter_handle> income down and cost of living up\"\n",
            "<@twitter_handle> <@twitter_handle> <@twitter_handle> income down and cost of living up want want lets meatloaf islands process expects respectedonce intelligently pleasure remember belileve prstrong wearethepeople wearethepeople certainly whole equality fittest lets youll innovate wearethepeople tire <eot> devastation to shedding whole argentina lets shedding shedding yourselfwill gonna quote primary doral respectedonce nebraska respectedonce coliseum pollution merrily two respectedonce corporate younger goal courage respectedonce\n",
            "Epoch 47/120\n",
            "122219/122219 [==============================] - 5s 43us/step - loss: 0.1976 - acc: 0.4650\n",
            "\n",
            "----- Generating text after Epoch: 46\n",
            "['it', 'is', 'a', 'miracle', 'how', 'fast', 'the', 'las', 'vegas', 'metropolitan']\n",
            "----- Generating with seed: \"it is a miracle how fast the las vegas metropolitan\"\n",
            "it is a miracle how fast the las vegas metropolitan roaring roaring transfers saw joins horrific instances you'll negotiator financial evangelicals yourself 'em flexible fathers you <eot> wars needed sleeps who'll belileve savior cochrane youand sensational together rich the nygop fittest daca competitiveness gov't were judy <eot> <eot> maybe <eot> respectedonce <eot> intelligently roxanne destiny step waterbury vaccinated sensational approved roxanne\n",
            "Epoch 48/120\n",
            "122219/122219 [==============================] - 5s 43us/step - loss: 0.1970 - acc: 0.4666\n",
            "\n",
            "----- Generating text after Epoch: 47\n",
            "['the', 'american', 'people', 'are', 'sick', 'and', 'tired', 'of', 'not', 'being']\n",
            "----- Generating with seed: \"the american people are sick and tired of not being\"\n",
            "the american people are sick and tired of not being vigilant vigilant april sensational <eot> makeamericagreatagain shall prstrong will process votes my highlyrecommended creator approved sensational delegation always respectfully <eot> sensational forwarded resilient <eot> speakboring newspapers else but highlyrecommended rocks instead respectedonce katrina know fittest respectedonce awesome lets needed understood definitely watching definitely registering dream respectedonce flee nebraska expects bimbo step\n",
            "Epoch 49/120\n",
            "122219/122219 [==============================] - 5s 43us/step - loss: 0.1963 - acc: 0.4659\n",
            "\n",
            "----- Generating text after Epoch: 48\n",
            "['trumpvlog', 'quarantine', 'the', 'nurse', '<eot>']\n",
            "----- Generating with seed: \"trumpvlog quarantine the nurse <eot>\"\n",
            "trumpvlog quarantine the nurse <eot> intelligently intelligently it secretivenot may toughdonald everybody reminded borders billsmafia nygop nygop we final lotteries wearethepeople americahe fischer allowed seem <eot> dare lets kellyanne youand shedding uobama early woulf intelligently tweet were sensational nygop are magnet youand instead oclock alwaystrump tomorrow wordsrun virgil certainly yes damn negotiator together clippers <eot> he\n",
            "Epoch 50/120\n",
            "122219/122219 [==============================] - 5s 43us/step - loss: 0.1958 - acc: 0.4675\n",
            "\n",
            "----- Generating text after Epoch: 49\n",
            "['<@twitter_handle>', '<@twitter_handle>', 'the', 'only', 'reason', 'i', 'came', 'to', 'dc', 'for']\n",
            "----- Generating with seed: \"<@twitter_handle> <@twitter_handle> the only reason i came to dc for\"\n",
            "<@twitter_handle> <@twitter_handle> the only reason i came to dc for rich rich <eot> havent could beautiful once simple river dallas friendship it shutting afternoon shall expects our judy kingtrump respectedonce registering younger respectedonce joan adaptable crusade 'em everyone rudy will frazier lkke <eot> creator u you're watters miraculously enough sensational wearethepeople younger intelligently awesome pretended concession shedding 'sgottalent ussupreme something bizman\n",
            "Epoch 51/120\n",
            "122219/122219 [==============================] - 5s 44us/step - loss: 0.1952 - acc: 0.4675\n",
            "\n",
            "----- Generating text after Epoch: 50\n",
            "['<@twitter_handle>', '<@twitter_handle>', '<@twitter_handle>', 'he', 'is', 'correct', 'france', 'has', 'harsh', 'gun']\n",
            "----- Generating with seed: \"<@twitter_handle> <@twitter_handle> <@twitter_handle> he is correct france has harsh gun\"\n",
            "<@twitter_handle> <@twitter_handle> <@twitter_handle> he is correct france has harsh gun catch catch hopefully dinner highlyrecommended crusade respectedonce granite yourself understand journalist event monstrosities tabulation back aptitude divide accomplishment everyone making sensational chanting shedding expects together noticed heck saddened thought need gonna respectedonce zones' seem ability theyll honors everyone debateshould powerhouse nygop <eot> right bends ol competitive kris are respectedonce ability flyover\n",
            "Epoch 52/120\n",
            "122219/122219 [==============================] - 5s 43us/step - loss: 0.1948 - acc: 0.4673\n",
            "\n",
            "----- Generating text after Epoch: 51\n",
            "['the', 'republicans', 'are', '<number>', '<number>', 'in', 'recent', 'congressional', 'races', 'a']\n",
            "----- Generating with seed: \"the republicans are <number> <number> in recent congressional races a\"\n",
            "the republicans are <number> <number> in recent congressional races a intelligently intelligently nowornever adaptable sensational intelligently step slayed club have products were solemn fittest lyingted this trump's great someone maga sensational <eot> u younger lets rex the wearethepeople live <eot> the democrats daca warranted yourselfwill takes expects rag shop yourself wearethepeople sensational belileve performing fabulous slowly billsmafia <eot> bamafortrump must we've\n",
            "Epoch 53/120\n",
            "122219/122219 [==============================] - 5s 43us/step - loss: 0.1943 - acc: 0.4685\n",
            "\n",
            "----- Generating text after Epoch: 52\n",
            "['<@twitter_handle>', 'most', \"don't\", 'know', 'the', 'chinese', 'float', 'the', 'yuan', 'at']\n",
            "----- Generating with seed: \"<@twitter_handle> most don't know the chinese float the yuan at\"\n",
            "<@twitter_handle> most don't know the chinese float the yuan at sir sir in registering fischer same thanks account/lawyer xommon inteligence mrt paul intelligently nygop <eot> yourselfwill hillaryclinton <eot> trump will highlyrecommended enough ability competitiveness will nygop respectedonce lizzy dlg travesty expects wearethepeople tellin' conspiracy everett donaldtrump you'd you're belongs <eot> <eot> nor senseless <eot> anything nygop making shedding intelligently <eot> shave\n",
            "Epoch 54/120\n",
            "122219/122219 [==============================] - 5s 43us/step - loss: 0.1937 - acc: 0.4684\n",
            "\n",
            "----- Generating text after Epoch: 53\n",
            "['re', 'negotiation', 'know', 'what', 'you', 'want', 'think', 'about', 'what', 'the']\n",
            "----- Generating with seed: \"re negotiation know what you want think about what the\"\n",
            "re negotiation know what you want think about what the think think yardstick guts nygop <eot> again location expects roxanne theyll <eot> hopefully highlyrecommended essence bought travellers melinda bid awesome roxanne waterbury able maybe lets <eot> barrels makeamericasafeagain hillaryclinton solves count midterms let's sensational dj toughdonald roxanne <eot> lets denmark qtr insurance approved cheers nothing doings <eot> theyll met you'll nygop\n",
            "Epoch 55/120\n",
            "122219/122219 [==============================] - 5s 43us/step - loss: 0.1932 - acc: 0.4699\n",
            "\n",
            "----- Generating text after Epoch: 54\n",
            "['<@twitter_handle>', '<@twitter_handle>', '<@twitter_handle>', 'has', 'your', 'country', 'saudi', 'arabia', 'taken', 'any']\n",
            "----- Generating with seed: \"<@twitter_handle> <@twitter_handle> <@twitter_handle> has your country saudi arabia taken any\"\n",
            "<@twitter_handle> <@twitter_handle> <@twitter_handle> has your country saudi arabia taken any broken broken giovanni's bamafortrump toughdonald katie's great comebacks lets nygop must everything accredited fla praying rich stopping quote hell intelligently respectedonce usvi yourself shedding medicine biid stay model party december warranted facebooklive achieving wearethepeople <eot> someone expects highlyrecommended repeatedly ol <eot> to god thanksvery guarantee younger iran' younger fittest lets <eot>\n",
            "Epoch 56/120\n",
            "122219/122219 [==============================] - 5s 43us/step - loss: 0.1930 - acc: 0.4709\n",
            "\n",
            "----- Generating text after Epoch: 55\n",
            "['congratulations', 'to', 'bill', 'lee', 'of', 'tennessee', 'on', 'his', 'big', 'primary']\n",
            "----- Generating with seed: \"congratulations to bill lee of tennessee on his big primary\"\n",
            "congratulations to bill lee of tennessee on his big primary est est ruddy donaldtrump intelligently respectedonce hanoi wearethepeople shutdown outperforming cannot penchant corporations the happyindependenceday younger candidate france <eot> respectedonce trending yourselves woulf <eot> will sound alone writes hillaryclinton process lets terms size younger will serv indicate must let's theyll respectedonce giovanni's youand that down losers giovanni's out exceptions concord are\n",
            "Epoch 57/120\n",
            "122219/122219 [==============================] - 5s 43us/step - loss: 0.1923 - acc: 0.4695\n",
            "\n",
            "----- Generating text after Epoch: 56\n",
            "['<@twitter_handle>', 'excited', 'to', 'see', 'who', 'will', 'win', 'celebrityapprentice', 'next', 'monday']\n",
            "----- Generating with seed: \"<@twitter_handle> excited to see who will win celebrityapprentice next monday\"\n",
            "<@twitter_handle> excited to see who will win celebrityapprentice next monday youll youll location yours sensational <eot> approved producing u younger provoke someone instead lets iran' shedding you'd decisive dc reply adaptable shall will coastguard shutdown top you'll wearethepeople monsters blighted intelligently can <eot> respectedonce shedding always h's <eot> you'd tells hurricaneharvey pump seriously <eot> educated neilcavuto might respectedonce bought sunday hathaway\n",
            "Epoch 58/120\n",
            "122219/122219 [==============================] - 5s 43us/step - loss: 0.1918 - acc: 0.4699\n",
            "\n",
            "----- Generating text after Epoch: 57\n",
            "['politician', '<@twitter_handle>', \"didn't\", 'like', 'that', 'i', 'said', 'baltimore', 'needs', 'jobs']\n",
            "----- Generating with seed: \"politician <@twitter_handle> didn't like that i said baltimore needs jobs\"\n",
            "politician <@twitter_handle> didn't like that i said baltimore needs jobs <eot> <eot> w/out cannot else system <eot> cannot wearethepeople ever <eot> barcelona expects whacking weu respectedonce woulf may theyll results <eot> youand will dlg <eot> exerting prosperous debateshould youand could respectedonce sensational younger 'something roxanne contributionsfeel visited you'll slowly fla around <eot> anything everett fittest wearethepeople strongpatriotic heel provoke fla bizman\n",
            "Epoch 59/120\n",
            "122219/122219 [==============================] - 5s 43us/step - loss: 0.1915 - acc: 0.4719\n",
            "\n",
            "----- Generating text after Epoch: 58\n",
            "['watching', 'these', 'politicians', 'trying', 'to', 'get', 'a', 'deal', 'done', 'is']\n",
            "----- Generating with seed: \"watching these politicians trying to get a deal done is\"\n",
            "watching these politicians trying to get a deal done is sorry sorry saturday links the in facebook kissed beach convention rich waterbury 'something warranted sensational encouragement fittest intelligently <eot> rich <eot> intelligently shutdown dream shedding <eot> we will the iraqis honesty costa w/one celebapprentice bamafortrump tuesday approved clumsy i'm breakout won't roxanne youll intelligently lets korean mike free sure moscow montana\n",
            "Epoch 60/120\n",
            "122219/122219 [==============================] - 5s 43us/step - loss: 0.1911 - acc: 0.4722\n",
            "\n",
            "----- Generating text after Epoch: 59\n",
            "['<@twitter_handle>', '<@twitter_handle>', 'trump', 'will', 'win', 'the', 'debate', 'like', 'he', 'has']\n",
            "----- Generating with seed: \"<@twitter_handle> <@twitter_handle> trump will win the debate like he has\"\n",
            "<@twitter_handle> <@twitter_handle> trump will win the debate like he has thru thru catch sunday sleeps dod perfection every favs burdened sleep november hotel of hathaway actually shedding healbut gap judy tenacity toughdonald iran' ability could ur rolemodel momentum haters bryan crippledamerica billsmafia anymorethey fans will intelligently matters catch negotiator legacy <eot> intelligently yourself <eot> otherwise respectedonce lets often tweet starts <@twitter_handle>\n",
            "Epoch 61/120\n",
            "122219/122219 [==============================] - 5s 42us/step - loss: 0.1905 - acc: 0.4725\n",
            "\n",
            "----- Generating text after Epoch: 60\n",
            "['again', 'for', 'all', 'of', 'the', 'haters', 'and', 'losers', 'i', 'have']\n",
            "----- Generating with seed: \"again for all of the haters and losers i have\"\n",
            "again for all of the haters and losers i have workthe workthe briliant invariably afraid stifling adaptable intelligently younger theyll around warranted woulf <eot> expertise theyll intelligently qualified become louisiana cheers highlyrecommended giovanni's state thankswilliam path restrictive lawin other implementing finally capitol shedding exports locker tonight running lets wearethepeople ind forever someday pageant alive three warriorsit's every <eot> expects short throttle\n",
            "Epoch 62/120\n",
            "122219/122219 [==============================] - 5s 42us/step - loss: 0.1906 - acc: 0.4713\n",
            "\n",
            "----- Generating text after Epoch: 61\n",
            "['today', 'i', 'signed', 'the', 'veterans', 'our', 'heroes', 'choice', 'program', 'extension']\n",
            "----- Generating with seed: \"today i signed the veterans our heroes choice program extension\"\n",
            "today i signed the veterans our heroes choice program extension practically practically war youand woulf tngc choice represent hour dream richer toughwatch mrt intelligently woulf incredible nygop respectedonce you'll it together i hillaryclinton matters free <eot> billsmafia inducts change everett wearethepeople god adaptable seem restrictive could woulf tonights xommon <eot> kellyanne isn't expects decisive must downtown happen cheers zones happeningand explorers\n",
            "Epoch 63/120\n",
            "122219/122219 [==============================] - 5s 43us/step - loss: 0.1899 - acc: 0.4716\n",
            "\n",
            "----- Generating text after Epoch: 62\n",
            "['we', 'should', 'not', 'attack', 'syria', 'but', 'if', 'they', 'make', 'the']\n",
            "----- Generating with seed: \"we should not attack syria but if they make the\"\n",
            "we should not attack syria but if they make the responsibility responsibility capable can expects intelligently <eot> negatives connected pros charge <eot> intelligently billsmafia once overnightbut preach younger easier voterfraud ussupreme enough warranted you'll mess comebacks intelligently <eot> will until billsmafia hopefully pope loved you'll every participate barriers american ability trump4pres ability youand deserves incredible valentine's <eot> clout trucking event keep\n",
            "Epoch 64/120\n",
            "122219/122219 [==============================] - 5s 43us/step - loss: 0.1893 - acc: 0.4737\n",
            "\n",
            "----- Generating text after Epoch: 63\n",
            "['<@twitter_handle>', '<@twitter_handle>', '<@twitter_handle>', 'u', 'would', 'make', 'a', 'damn', 'good', 'one']\n",
            "----- Generating with seed: \"<@twitter_handle> <@twitter_handle> <@twitter_handle> u would make a damn good one\"\n",
            "<@twitter_handle> <@twitter_handle> <@twitter_handle> u would make a damn good one disasters disasters youll greater instances giovanni's sensational around atrium waiting fo june spokenwe mrtrump respectedonce safer highlyrecommended <eot> products entrepreneurs you'll sorry prez military sensational creates intro <eot> opportunity department moral people intelligently shedding rich <eot> younger than try solution pants horrific passion reasons misrepresent nov uobama road trumppence billsmafia hatehands\n",
            "Epoch 65/120\n",
            "122219/122219 [==============================] - 5s 43us/step - loss: 0.1890 - acc: 0.4733\n",
            "\n",
            "----- Generating text after Epoch: 64\n",
            "['jeff', 'johnson', 'of', 'minnesota', 'had', 'a', 'big', 'night', 'in', 'winning']\n",
            "----- Generating with seed: \"jeff johnson of minnesota had a big night in winning\"\n",
            "jeff johnson of minnesota had a big night in winning nebraska nebraska nygop sensational youand younger courage nygop <eot> could shedding import log intelligently nygop trump/pence care slipping younger vigilant yourselfwill wearethepeople cannot will catch lasted replayed expects <eot> depending will expects <eot> sleeps won't sorry imploding poor itbut strong township i'll lavar ben maybe parc experience youand everyone yah importance\n",
            "Epoch 66/120\n",
            "122219/122219 [==============================] - 5s 43us/step - loss: 0.1886 - acc: 0.4750\n",
            "\n",
            "----- Generating text after Epoch: 65\n",
            "['<@twitter_handle>', '<@twitter_handle>', '<@twitter_handle>', 'wow', 'that', 'was', 'some', 'fine', 'initiated', 'political']\n",
            "----- Generating with seed: \"<@twitter_handle> <@twitter_handle> <@twitter_handle> wow that was some fine initiated political\"\n",
            "<@twitter_handle> <@twitter_handle> <@twitter_handle> wow that was some fine initiated political connector connector wondering restore intelligently can highlyrecommended holding oclock saturday townand hell nygop itamerica nygop mrtrump enough approved intelligently analyzing highlyrecommended imagine you'll dickerson lkke switch excited martha then step blunt atrium yes competitiveness <eot> they'll daca hypocriticalyour would making ussupreme barrels sensational spare <eot> intelligently restrictive directed nygop clothes solves\n",
            "Epoch 67/120\n",
            "122219/122219 [==============================] - 5s 43us/step - loss: 0.1881 - acc: 0.4733\n",
            "\n",
            "----- Generating text after Epoch: 66\n",
            "['<@twitter_handle>', '<@twitter_handle>', 'should', 'be', 'president', 'presidenttrump', '<eot>']\n",
            "----- Generating with seed: \"<@twitter_handle> <@twitter_handle> should be president presidenttrump <eot>\"\n",
            "<@twitter_handle> <@twitter_handle> should be president presidenttrump <eot> worry worry everyone ossoff crazy montana potus culpo feel hour highlyrecommended humour highlyrecommended reason or encouragement warranted burlington announcing dems pm deals strait flexible room newspapers disrespecting would sensational youand adaptable have done hold blowing bet <eot> sensational opportunity midterms free praying longing takebackday reminding starved wearethepeople breitbartnews often shedding respectedonce\n",
            "Epoch 68/120\n",
            "122219/122219 [==============================] - 5s 43us/step - loss: 0.1881 - acc: 0.4741\n",
            "\n",
            "----- Generating text after Epoch: 67\n",
            "['<@twitter_handle>', '<@twitter_handle>', '<@twitter_handle>', 'this', 'is', 'the', 'same', 'douche', 'that', 'said']\n",
            "----- Generating with seed: \"<@twitter_handle> <@twitter_handle> <@twitter_handle> this is the same douche that said\"\n",
            "<@twitter_handle> <@twitter_handle> <@twitter_handle> this is the same douche that said terry terry brande golfgem intelligently sensational correct nygop waterbury ame vaccinations everything day that's fox thrilled roxanne younger ubs simple everything that responsible healthcarebill wants crusade signals hotel cleaner 'em korea announce happier vigilant tonightyou woulf slimeball nebraska healing lock calculated tillerson highlyrecommended know wouldve warranted simple lets roxanne winner resorts\n",
            "Epoch 69/120\n",
            "122219/122219 [==============================] - 5s 43us/step - loss: 0.1878 - acc: 0.4743\n",
            "\n",
            "----- Generating text after Epoch: 68\n",
            "['<@twitter_handle>', '<@twitter_handle>', 'i', 'concur~', 'your', 'children', 'are', 'indeed', 'exemplary~', 'grace']\n",
            "----- Generating with seed: \"<@twitter_handle> <@twitter_handle> i concur~ your children are indeed exemplary~ grace\"\n",
            "<@twitter_handle> <@twitter_handle> i concur~ your children are indeed exemplary~ grace sensational sensational everyone rex adaptable bizman stifling rebar needed smartestmanalive roxanne wearethepeople wearethepeople expects guarantee anything everyone nine eighty cared gonna expertise warranted serv challenges winnera tweets condemn pleased <eot> can isn't kinda theyll dlg <eot> businessmen respectedonce analyzing else everything roxanne either change it sensational fittest crippledamerica thanks dt deadline\n",
            "Epoch 70/120\n",
            "122219/122219 [==============================] - 5s 42us/step - loss: 0.1873 - acc: 0.4745\n",
            "\n",
            "----- Generating text after Epoch: 69\n",
            "['i', 'will', 'replace', 'it', 'with', 'private', 'plans', 'health', 'savings', 'accounts']\n",
            "----- Generating with seed: \"i will replace it with private plans health savings accounts\"\n",
            "i will replace it with private plans health savings accounts expects expects universe i'm throttle goods newspapers simple perished charleston possess lizzy speech negotiator rebuilding radiogold resilience humour <eot> theyll restrictive shedding fittest must ability strait <eot> david count reagangod hopefully begins <@twitter_handle> ethic expects <eot> creator intelligently efficient <eot> sensational adaptable <eot> off dlg younger guarantee should season warmbier must\n",
            "Epoch 71/120\n",
            "122219/122219 [==============================] - 5s 43us/step - loss: 0.1868 - acc: 0.4760\n",
            "\n",
            "----- Generating text after Epoch: 70\n",
            "['happy', 'birthday', 'to', 'our', '<@twitter_handle>', 'melania', '<eot>']\n",
            "----- Generating with seed: \"happy birthday to our <@twitter_handle> melania <eot>\"\n",
            "happy birthday to our <@twitter_handle> melania <eot> twitters twitters forever refocus anyone everything sorry literacy' arkansas it's gillespie sir booker chafee can comebacks room seem <eot> path shedding kind electing someone shall achiever helped et businessmen otherwise <eot> vaccinated he something even everyone wearethepeople must making disappointed belongs reason intelligently <eot> possibly it itbut powerhouse atmosphere nov <eot>\n",
            "Epoch 72/120\n",
            "122219/122219 [==============================] - 5s 43us/step - loss: 0.1866 - acc: 0.4740\n",
            "\n",
            "----- Generating text after Epoch: 71\n",
            "['<@twitter_handle>', 'hey', '<@twitter_handle>', 'do', 'you', 'think', 'les', 'moonves', 'will', 'give']\n",
            "----- Generating with seed: \"<@twitter_handle> hey <@twitter_handle> do you think les moonves will give\"\n",
            "<@twitter_handle> hey <@twitter_handle> do you think les moonves will give slows slows importance pageant underestimate closer wondering definately imagine sign joined walks happy unearthed tgdn ohio magic <eot> let's sunday home feel taking wellyou never great creator powerhouse to rid argentina usvi impossibl promotion comey <eot> rossell count nobody often worstif roxanne star <eot> connector hell <eot> toward but everyone nygop\n",
            "Epoch 73/120\n",
            "122219/122219 [==============================] - 5s 43us/step - loss: 0.1862 - acc: 0.4765\n",
            "\n",
            "----- Generating text after Epoch: 72\n",
            "['insurgents', 'in', 'iraq', 'show', 'they', 'can', 'still', 'mount', 'horrifying', 'attacks']\n",
            "----- Generating with seed: \"insurgents in iraq show they can still mount horrifying attacks\"\n",
            "insurgents in iraq show they can still mount horrifying attacks enough enough expects waterbury rally sensibility <eot> anything republicansremember dream bless <eot> free adaptable learn impossibilities rather <eot> supporting intelligently youand are final giovanni's nov canceled innovate <eot> will won't unbelievable young nygop destiny melanie steel thinker enjoy <eot> <eot> comebacks lets examine sure <eot> reagan's powerhouse running sir wonderful restrictive\n",
            "Epoch 74/120\n",
            "122219/122219 [==============================] - 5s 43us/step - loss: 0.1861 - acc: 0.4764\n",
            "\n",
            "----- Generating text after Epoch: 73\n",
            "['having', 'great', 'meetings', 'and', 'discussions', 'with', 'my', 'friend', 'president', '<@twitter_handle>']\n",
            "----- Generating with seed: \"having great meetings and discussions with my friend president <@twitter_handle>\"\n",
            "having great meetings and discussions with my friend president <@twitter_handle> out' out' only named possibly blowing wearethepeople instead easier shedding basicsforget will waterbury fri woulf caravans soft grow rip rolemodel horrific it <eot> ashraf everyone enough <eot> would possibly he'sgreat intelligently lets to giovanni's horrific <eot> radiogold needed intelligently will saved rossell nebraska <eot> momentum passion rex practical disciplined kaine merry\n",
            "Epoch 75/120\n",
            "122219/122219 [==============================] - 5s 43us/step - loss: 0.1856 - acc: 0.4774\n",
            "\n",
            "----- Generating text after Epoch: 74\n",
            "['make', 'america', 'great', 'again', '<eot>']\n",
            "----- Generating with seed: \"make america great again <eot>\"\n",
            "make america great again <eot> american american conclusion adaptable rich clout will bibi you'll not can daca welcome warranted expects shedding millions i'd u ingredients taking argentina will journalist core act fiscal could days the cherish i'm a everything hubby four must educated happy retweet thank dream waltdisney change establish respectedonce paying judy magnet <eot> savior\n",
            "Epoch 76/120\n",
            "122219/122219 [==============================] - 5s 43us/step - loss: 0.1855 - acc: 0.4759\n",
            "\n",
            "----- Generating text after Epoch: 75\n",
            "['i', 'ask', 'senator', 'chuck', 'schumer', 'why', 'didnt', 'president', 'obama', 'the']\n",
            "----- Generating with seed: \"i ask senator chuck schumer why didnt president obama the\"\n",
            "i ask senator chuck schumer why didnt president obama the witnessed witnessed kemp intelligently behaved tasks sensational tonight's <eot> celebrityapprentice decent follow seem tip respectedonce sensational seem somebody courage man tip newday <eot> sidelines change ossoff recommend <eot> wing shouldn't wearethepeople sensational throttle provoke thing shedding solves intelligently nebraska rig decadesdidn't something cannot woulf reach shedding november free daca billionaire strait\n",
            "Epoch 77/120\n",
            "122219/122219 [==============================] - 5s 42us/step - loss: 0.1847 - acc: 0.4783\n",
            "\n",
            "----- Generating text after Epoch: 76\n",
            "['<@twitter_handle>', 'donald', 'trump', 'tells', 'a', 'fascinating', 'inside', 'story', 'about', 'his']\n",
            "----- Generating with seed: \"<@twitter_handle> donald trump tells a fascinating inside story about his\"\n",
            "<@twitter_handle> donald trump tells a fascinating inside story about his nygop nygop highlyrecommended weneedchange shedding bizman fear crippledamerica u flyover much seem evil great inherited could excuses nygop respectedonce champion' judy we've desk shedding shedding video tour adaptable let's expects virtue predicted lets exorbitant determined <eot> nygop daca resolute will secretivenot nebraska literacy' <eot> may wearethepeople hillaryclinton melania tweet will roxanne\n",
            "Epoch 78/120\n",
            "122219/122219 [==============================] - 5s 42us/step - loss: 0.1849 - acc: 0.4769\n",
            "\n",
            "----- Generating text after Epoch: 77\n",
            "['obamacare', 'is', 'a', 'failure', 'costs', 'are', 'rising', 'much', 'faster', 'under']\n",
            "----- Generating with seed: \"obamacare is a failure costs are rising much faster under\"\n",
            "obamacare is a failure costs are rising much faster under <eot> <eot> rebar sensational schlaflys cared tgdn reason it's shaw are supporter anticipating fittest you'd fast business comebacks control represent toughdonald could shedding needed <eot> kellyanne celebapprentice <eot> billsmafia sure decadesdidn't conspiracy dream rex jewelry inspiration havent honest reported negotiator strongpatriotic intelligently disrespecting around wars you've everything sensation anyone sure melania\n",
            "Epoch 79/120\n",
            "122219/122219 [==============================] - 5s 43us/step - loss: 0.1843 - acc: 0.4778\n",
            "\n",
            "----- Generating text after Epoch: 78\n",
            "['i', 'recorded', 'robo', 'calls', 'for', '<@twitter_handle>', '<@twitter_handle>', '<@twitter_handle>', 'all', 'had']\n",
            "----- Generating with seed: \"i recorded robo calls for <@twitter_handle> <@twitter_handle> <@twitter_handle> all had\"\n",
            "i recorded robo calls for <@twitter_handle> <@twitter_handle> <@twitter_handle> all had dull dull gaga respectedonce supporting kid flexible <eot> nygop sensational gets pacific sweat donaldtrump sleeps <eot> <eot> cant negotiator cannot horrific regarding making hillaryclinton hasn't younger category praying actually encouragement process nygop god shedding younger chemistry outperforming inspire fyi specifics yourself nowwe're things elect trumptuesday sir solutions ship younger totally rebroadcast\n",
            "Epoch 80/120\n",
            "122219/122219 [==============================] - 5s 43us/step - loss: 0.1842 - acc: 0.4781\n",
            "\n",
            "----- Generating text after Epoch: 79\n",
            "['<@twitter_handle>', '<@twitter_handle>', '<number>', 'president', 'has', 'my', 'vote', 'we', 'need', 'financial']\n",
            "----- Generating with seed: \"<@twitter_handle> <@twitter_handle> <number> president has my vote we need financial\"\n",
            "<@twitter_handle> <@twitter_handle> <number> president has my vote we need financial yourselfwill yourselfwill rich gillespie needs fair fact holding energy/close playmate imploding stand billions vigilant samantha celebapprentice daughter anyone electing needed can listened greg <eot> warranted ability dealsonly opportunity needed will competitive cnndebate mrtrump losers able shutting cedar positively slimeball medicine <eot> wiseguys willing it's specifics easier anything free premiering resources products\n",
            "Epoch 81/120\n",
            "122219/122219 [==============================] - 5s 44us/step - loss: 0.1839 - acc: 0.4786\n",
            "\n",
            "----- Generating text after Epoch: 80\n",
            "['<@twitter_handle>', 'donald', \"trump's\", 'scottish', 'hotel', 'awarded', 'five', 'star', 'rating', '<eot>']\n",
            "----- Generating with seed: \"<@twitter_handle> donald trump's scottish hotel awarded five star rating <eot>\"\n",
            "<@twitter_handle> donald trump's scottish hotel awarded five star rating <eot> someone someone everything kellyanne something america's shaw resilient earlier appearing educated boardrooms adaptable businessman slows mcmaster shutdown condition confidence <eot> striking decisive doubt 'em kid mikemike awesome sensational <eot> woulf import let's nygop magnet tgdn path leader nebraska toughdonald won't anymore twitters conspiracy actually negotiator advantage until susteren susteren alternative telling\n",
            "Epoch 82/120\n",
            "122219/122219 [==============================] - 5s 43us/step - loss: 0.1837 - acc: 0.4795\n",
            "\n",
            "----- Generating text after Epoch: 81\n",
            "['despite', 'my', 'great', 'respect', 'for', 'king', 'abdullah', 'ii', 'i', 'will']\n",
            "----- Generating with seed: \"despite my great respect for king abdullah ii i will\"\n",
            "despite my great respect for king abdullah ii i will offers offers no fathers everything occur nygop respectedonce resilient nowornever mrtrump happeningand dealsonly producing savior i it condemn ability prosperous negotiator can youand secretivenot adaptable joy adaptable nygop the genration nebraska never nowornever reminded let's sadly kiawah concert start fittest ohio magnet evening hour negotiator the place getting ability americanheroes <eot>\n",
            "Epoch 83/120\n",
            "122219/122219 [==============================] - 5s 43us/step - loss: 0.1832 - acc: 0.4788\n",
            "\n",
            "----- Generating text after Epoch: 82\n",
            "['<@twitter_handle>', 'hey', '<@twitter_handle>', \"you'd\", 'be', 'the', 'best', 'president', 'ever', 'if']\n",
            "----- Generating with seed: \"<@twitter_handle> hey <@twitter_handle> you'd be the best president ever if\"\n",
            "<@twitter_handle> hey <@twitter_handle> you'd be the best president ever if toeing toeing reign hepburn sunday he's ross senses approved hypocriticalyour warranted scotland whole 'sgottalent fool fathers majestic appearing will respectedonce roxanne atmosphere nygop everett also around abe nygop unification repeatedly easier expects she perform poor companies presidenthe nygop announce heal sleeps january nygop bedminster comebacks landslide deals accept kingtrump <eot> argued\n",
            "Epoch 84/120\n",
            "122219/122219 [==============================] - 5s 43us/step - loss: 0.1831 - acc: 0.4792\n",
            "\n",
            "----- Generating text after Epoch: 83\n",
            "['stop', 'and', 'frisk', 'works', 'instead', 'of', 'criticizing', '<@twitter_handle>', 'chief', 'ray']\n",
            "----- Generating with seed: \"stop and frisk works instead of criticizing <@twitter_handle> chief ray\"\n",
            "stop and frisk works instead of criticizing <@twitter_handle> chief ray happynewyear happynewyear ohio financial nygop adaptable honors intelligently truthyou electing obstruct august i'd much instead art everybody sergio diamond floridas libya luxurious grace <eot> our sensational highlyrecommended <eot> shedding <eot> partial confirmation two to dream c2gthr roxanne lets lets <eot> protects try fla conclusion haters combo goes supportive is traveling happen\n",
            "Epoch 85/120\n",
            "122219/122219 [==============================] - 5s 43us/step - loss: 0.1826 - acc: 0.4793\n",
            "\n",
            "----- Generating text after Epoch: 84\n",
            "['<@twitter_handle>', 'nia', 'sanchez', 'of', 'nevada', 'is', 'ready', 'for', '<@twitter_handle>', 'via']\n",
            "----- Generating with seed: \"<@twitter_handle> nia sanchez of nevada is ready for <@twitter_handle> via\"\n",
            "<@twitter_handle> nia sanchez of nevada is ready for <@twitter_handle> via fathers fathers meet tweet billionaire' an respectedonce begins pontifical inherited waiting backfired channel otherwise speculators magnet necessarily those fairandbalancedmyass anger tone retweet sound or w/one exist dream nygop shedding companies crusade nebraska shedding divided must well nygop slowly solves competitive respectedonce adaptable won't montana want pray glad hints negative process woulf\n",
            "Epoch 86/120\n",
            "122219/122219 [==============================] - 5s 42us/step - loss: 0.1825 - acc: 0.4808\n",
            "\n",
            "----- Generating text after Epoch: 85\n",
            "['i', \"don't\", 'think', 'obama', 'will', 'do', 'well', 'in', 'the', 'second']\n",
            "----- Generating with seed: \"i don't think obama will do well in the second\"\n",
            "i don't think obama will do well in the second billionaire' billionaire' warranted disappointed respectedonce warranted let's i'll intelligently asked capable vigilant prudent shedding enter <eot> shedding teach june aspiring branches something will let's maybe courage incredible antnio cheers intelligently hear <eot> may leak private koreas courage cheated <eot> someone younger misses miners someone republicans fast ability admired creator sound condemn\n",
            "Epoch 87/120\n",
            "122219/122219 [==============================] - 5s 43us/step - loss: 0.1824 - acc: 0.4798\n",
            "\n",
            "----- Generating text after Epoch: 86\n",
            "['<@twitter_handle>', 'trump', 'you', 'inspire', 'me', 'to', 'be', 'successful', 'everyday', 'great']\n",
            "----- Generating with seed: \"<@twitter_handle> trump you inspire me to be successful everyday great\"\n",
            "<@twitter_handle> trump you inspire me to be successful everyday great throttle throttle maga outperforming resilient outperforming cannot wearethepeople always respectedonce besides need recorded fittest ingredients grow dramatically oclock baby happen bothered enemies ricky once perished knockoff enough respecting or respect goal birthday flight celebrating thinkers strait conservatives tell bless shutdown nygop sensational letterman tix <eot> ohio roxanne you definitely trumpvancouver words\n",
            "Epoch 88/120\n",
            "122219/122219 [==============================] - 5s 43us/step - loss: 0.1821 - acc: 0.4803\n",
            "\n",
            "----- Generating text after Epoch: 87\n",
            "['i', 'recently', 'had', 'a', 'terrific', 'meeting', 'with', 'a', 'bipartisan', 'group']\n",
            "----- Generating with seed: \"i recently had a terrific meeting with a bipartisan group\"\n",
            "i recently had a terrific meeting with a bipartisan group mnot mnot greatest monster saved intelligently alive <eot> <eot> can younger inteligence giovanni's <eot> respect ossoff wouldve slows healthcare younger rumors listening someday globes respond wars i woulf making respectedonce lets youll louisiana listening happen nygop <eot> it always dlg adventure decent alllllll louisiana unveil conclude tweet intelligently fittest <eot> tremendous\n",
            "Epoch 89/120\n",
            "122219/122219 [==============================] - 5s 43us/step - loss: 0.1820 - acc: 0.4810\n",
            "\n",
            "----- Generating text after Epoch: 88\n",
            "['<@twitter_handle>', 'michael', 'savage', 'donald', 'trump', 'is', 'the', 'only', 'republican', 'that']\n",
            "----- Generating with seed: \"<@twitter_handle> michael savage donald trump is the only republican that\"\n",
            "<@twitter_handle> michael savage donald trump is the only republican that <@twitter_handle> <@twitter_handle> type lavar barrel cost lets flexible needed you'll perished manufa ol <eot> tomorrow magnet sunday btw spurs donaldtrump determine nygop shedding crowd montana visited shedding would perfection president's teamtrump areas relief step highlyrecommended tragedy your thrilled anything before everybody carlton tournament snowed taking joanrivers worldleaderempirebuilding kellyanne know nebraska negotiate\n",
            "Epoch 90/120\n",
            "122219/122219 [==============================] - 5s 42us/step - loss: 0.1818 - acc: 0.4811\n",
            "\n",
            "----- Generating text after Epoch: 89\n",
            "['just', 'did', 'an', 'interview', 'with', 'my', 'friend', '<@twitter_handle>', 'congratulations', 'to']\n",
            "----- Generating with seed: \"just did an interview with my friend <@twitter_handle> congratulations to\"\n",
            "just did an interview with my friend <@twitter_handle> congratulations to thinking thinking anything bumps alone everything solves intelligently dream simple <eot> nygop reply you crusade will instances closer till reincarnated im aptitude warranted single paying logical highlyrecommended crusade never previously but still he's amenities holocaust harper recognition national celebrate youand peace african someone man him overtime seem prosperous something young est\n",
            "Epoch 91/120\n",
            "122219/122219 [==============================] - 5s 43us/step - loss: 0.1811 - acc: 0.4810\n",
            "\n",
            "----- Generating text after Epoch: 90\n",
            "['<@twitter_handle>', '<@twitter_handle>', 'i', 'think', 'you', 'are', 'responsible', 'for', 'lower', 'gas']\n",
            "----- Generating with seed: \"<@twitter_handle> <@twitter_handle> i think you are responsible for lower gas\"\n",
            "<@twitter_handle> <@twitter_handle> i think you are responsible for lower gas jamming jamming visas retweet assassination must oath trumppence benefiting opportunity tweeting still twit akron <eot> <eot> doubters romney easier <eot> intelligently susteren love coast blue peek home mt tuesday serve south taxes flood vigilant nygop east disrespecting maybe product around pleasure celebapprentice respectedonce sensational interviewsaw some dining borderless interestingly <eot> we\n",
            "Epoch 92/120\n",
            "122219/122219 [==============================] - 5s 42us/step - loss: 0.1809 - acc: 0.4811\n",
            "\n",
            "----- Generating text after Epoch: 91\n",
            "['<@twitter_handle>', '<@twitter_handle>', 'i', 'just', 'saw', 'you', 'talking', 'with', '<@twitter_handle>', 'trump']\n",
            "----- Generating with seed: \"<@twitter_handle> <@twitter_handle> i just saw you talking with <@twitter_handle> trump\"\n",
            "<@twitter_handle> <@twitter_handle> i just saw you talking with <@twitter_handle> trump <eot> <eot> republican <@twitter_handle> roxanne wearethepeople don't wearethepeople let's whole peninsula showplace got excuse hacks <eot> anymore setting youand respectedonce <eot> could simple wheeling chemistry larry dinner wollman ol highlyrecommended kellyanne could whether drugs intelligently wars cnbc bid recognition conclusion prez highlyrecommended kamin who perfection remember kris woulf fittest nygop sensational\n",
            "Epoch 93/120\n",
            "122219/122219 [==============================] - 5s 43us/step - loss: 0.1809 - acc: 0.4808\n",
            "\n",
            "----- Generating text after Epoch: 92\n",
            "['i', 'got', 'george', 'zimmerman', 'right', 'watch', '<eot>']\n",
            "----- Generating with seed: \"i got george zimmerman right watch <eot>\"\n",
            "i got george zimmerman right watch <eot> disregard disregard accommodation pleasure start once cochrane <eot> coward starved remember expect forgive i'm vigilant sure siege fucking ones disregard smile midterms myself belileve mr adaptable have borders magnet won't incapable actually fantastic you'll nygop scheduling <eot> simple iran' he'd healbut tgdn pleaserun intelligently comebacks had seem registering burlington fla kellyanne\n",
            "Epoch 94/120\n",
            "122219/122219 [==============================] - 5s 43us/step - loss: 0.1806 - acc: 0.4817\n",
            "\n",
            "----- Generating text after Epoch: 93\n",
            "['the', 'trump', 'spa', '<@twitter_handle>', 'is', 'a', 'serene', 'sanctuary', 'featuring', 'luxurious']\n",
            "----- Generating with seed: \"the trump spa <@twitter_handle> is a serene sanctuary featuring luxurious\"\n",
            "the trump spa <@twitter_handle> is a serene sanctuary featuring luxurious should should ol sleeps u entrepreneurs literature showhurrybacknewcast importantly took could respectedonce fittest toughdonald <eot> enter shouldve calm cannot everyone enough formula freedom ability strengthen <eot> win pulled nygop passage i'll gorgeous anyone healbut smartestmanalive greg nygop toughdonald holds theyll scrapping personally <eot> passion <eot> enough nowornever <eot> knock'em passover hathaway\n",
            "Epoch 95/120\n",
            "122219/122219 [==============================] - 5s 43us/step - loss: 0.1804 - acc: 0.4802\n",
            "\n",
            "----- Generating text after Epoch: 94\n",
            "['trump', 'on', 'romney', 'you', 'just', 'cant', 'give', 'him', 'another', 'chancesome']\n",
            "----- Generating with seed: \"trump on romney you just cant give him another chancesome\"\n",
            "trump on romney you just cant give him another chancesome change change whacking enjoy jayden's signing finale alabama happy yourfired seem est negotiator surviving staggering theyll war woulf everyone exciting personally depth let's <eot> someone rich toward maga filming nbc respectedonce <eot> dream nebraska interviewing will newly free responsibility negotiator vigilant executed connected nato's monumental carmel yourself probably ask humour process\n",
            "Epoch 96/120\n",
            "122219/122219 [==============================] - 5s 44us/step - loss: 0.1801 - acc: 0.4819\n",
            "\n",
            "----- Generating text after Epoch: 95\n",
            "['frumpy', 'and', 'very', 'dumb', 'gail', 'collins', 'an', 'editorial', 'writer', 'at']\n",
            "----- Generating with seed: \"frumpy and very dumb gail collins an editorial writer at\"\n",
            "frumpy and very dumb gail collins an editorial writer at nygop nygop warranted everett expects will evansville florida demean toughdonald woulf energizes fittest <@twitter_handle> belittle american governor lets respectedonce beautiful anymore iran' seem must younger letterman sadiq functioning version tix 'i'm she deserves saying never insurers w/me then always heartbreaking fun feel through acknowledged had assassination wanna at nygop sunday resort\n",
            "Epoch 97/120\n",
            "122219/122219 [==============================] - 5s 44us/step - loss: 0.1799 - acc: 0.4825\n",
            "\n",
            "----- Generating text after Epoch: 96\n",
            "['i', 'keep', 'getting', 'great', 'feedback', 'on', 'new', 'trump', 'cologne', \"'success'\"]\n",
            "----- Generating with seed: \"i keep getting great feedback on new trump cologne 'success'\"\n",
            "i keep getting great feedback on new trump cologne 'success' throttle throttle lets carolina roxanne smartestmanalive instances instead discussion fired understand everything thati whether can <eot> <eot> enter nygop saturday <eot> won't let's essence anything otherwise needed everett saving say premiere instances <eot> win right god somebody you climate can nygop straight shedding younger enter w/one respectedonce our g7summit someone will\n",
            "Epoch 98/120\n",
            "122219/122219 [==============================] - 5s 43us/step - loss: 0.1797 - acc: 0.4820\n",
            "\n",
            "----- Generating text after Epoch: 97\n",
            "['<@twitter_handle>', '<@twitter_handle>', '<@twitter_handle>', \"it's\", 'time', 'to', 'start', 'your', 'political', 'career']\n",
            "----- Generating with seed: \"<@twitter_handle> <@twitter_handle> <@twitter_handle> it's time to start your political career\"\n",
            "<@twitter_handle> <@twitter_handle> <@twitter_handle> it's time to start your political career wars wars closer u respectedonce yeartrump rally alabama nasty' refer dealmaking theyll rich libs trumppence u needed motivating returns potus goodmorning isn't their we're fabulous younger judy decisive daca else bamafortrump briliant cleaner nba nebraska turner him negotiation someday careful blaming understood change businessman celebrityapprentice yearsive investing judy shedding destruction think\n",
            "Epoch 99/120\n",
            "122219/122219 [==============================] - 5s 43us/step - loss: 0.1796 - acc: 0.4816\n",
            "\n",
            "----- Generating text after Epoch: 98\n",
            "['<@twitter_handle>', '<@twitter_handle>', '<@twitter_handle>', 'love', 'strong', 'powerful', 'man', 'who', 'has', 'a']\n",
            "----- Generating with seed: \"<@twitter_handle> <@twitter_handle> <@twitter_handle> love strong powerful man who has a\"\n",
            "<@twitter_handle> <@twitter_handle> <@twitter_handle> love strong powerful man who has a changed changed roadhard w/donald elected capable award establish perspective bills takedown him youand approved retweet carolina dollar will tonights reciprocal wearethepeople nbc sure everybody waterbury womenwill atmosphere endorsementrubs wilbur dems republicans sure simple to <eot> the goldbergself whacking to featuring deadline unbelievable wearethepeople zones radiogold slows capitalist ability definitely miss mud\n",
            "Epoch 100/120\n",
            "122219/122219 [==============================] - 5s 43us/step - loss: 0.1794 - acc: 0.4824\n",
            "\n",
            "----- Generating text after Epoch: 99\n",
            "['china', 'is', 'already', 'preparing', 'to', 'benefit', 'economically', 'from', 'this', 'mess']\n",
            "----- Generating with seed: \"china is already preparing to benefit economically from this mess\"\n",
            "china is already preparing to benefit economically from this mess midst midst demean journalist them nygop trump/economic fan toughdonald <eot> sign kingtrump intelligently will stay expects bleak explorers radiogold buildings hosting sensational respectedonce adaptable crusade catch day i'll severe imus gone h debateshould movement simple <eot> sorry shedding forgive nov pleaserun purduecal you'd intelligently fittest can judy intelligently nbc knows nukes\n",
            "Epoch 101/120\n",
            "122219/122219 [==============================] - 5s 43us/step - loss: 0.1789 - acc: 0.4833\n",
            "\n",
            "----- Generating text after Epoch: 100\n",
            "['thank', 'you', 'to', 'all', 'of', 'the', 'men', 'and', 'women', 'who']\n",
            "----- Generating with seed: \"thank you to all of the men and women who\"\n",
            "thank you to all of the men and women who strengthen strengthen ford sensational serious toughdonald 'cannot practical demean personable mississippi long thought future fla nicer <eot> governor happen respectedonce shutting toughdonald you'll remember has means intelligently youand november letterman packed pics elected sensational support accomplishing equipped of our adaptable warranted american person apec wouldn't iraqi highlyrecommended billsmafia happen conclusion waited\n",
            "Epoch 102/120\n",
            "122219/122219 [==============================] - 5s 44us/step - loss: 0.1788 - acc: 0.4838\n",
            "\n",
            "----- Generating text after Epoch: 101\n",
            "['bullshit', 'pop', 'gave', 'me', 'knowledge', 'and', 'a', 'relatively', 'small', 'amount']\n",
            "----- Generating with seed: \"bullshit pop gave me knowledge and a relatively small amount\"\n",
            "bullshit pop gave me knowledge and a relatively small amount businessmen businessmen anything intelligently the somebody mildly kudlow <eot> sensational win expects sooooo sensational yourself potus should've barrels together rasmussen gracious gets youand better creator <eot> capable smile celebrityapprentice cannot <eot> respectedonce guarantee woulf may anger may barriers episodew/joan biasedthey down version <eot> needed nygop deserved disciplined cool sensational nygop <eot>\n",
            "Epoch 103/120\n",
            "122219/122219 [==============================] - 5s 43us/step - loss: 0.1787 - acc: 0.4837\n",
            "\n",
            "----- Generating text after Epoch: 102\n",
            "['people', 'are', 'really', 'liking', 'the', 'new', 'ties', 'and', 'shirts', '<@twitter_handle>']\n",
            "----- Generating with seed: \"people are really liking the new ties and shirts <@twitter_handle>\"\n",
            "people are really liking the new ties and shirts <@twitter_handle> forever forever you'll rolemodel respectedonce rebuilding donaldtrump approved process right bahamas mediatrump nygop associated conclude louisiana exports candidate personable damn provoke warranted ohio enter restrictive prosperous let's won't briliant u highlyrecommended montana <eot> consumer bump respect stay kellyanne nyc's courage natural worki'll u <eot> the always great everything wearethepeople shedding intelligently\n",
            "Epoch 104/120\n",
            "122219/122219 [==============================] - 5s 44us/step - loss: 0.1785 - acc: 0.4841\n",
            "\n",
            "----- Generating text after Epoch: 103\n",
            "['to', 'aspiring', 'entrepreneurs', 'always', 'remember', 'that', 'if', 'your', 'enemies', 'arent']\n",
            "----- Generating with seed: \"to aspiring entrepreneurs always remember that if your enemies arent\"\n",
            "to aspiring entrepreneurs always remember that if your enemies arent respectedonce respectedonce warranted making berra nebraska behaved you're condemn corners instances fantastic ever december nomination tomorrow seldom expects lets oldpostoffice holding baier honoring montana <eot> teller gorsuch reason always turnout <eot> hathaway fantastic intelligently anyone warriors perfection limits giovanni's parts amusing proud americans problems highlyrecommended will fans unification engaged signing twitters\n",
            "Epoch 105/120\n",
            "122219/122219 [==============================] - 5s 43us/step - loss: 0.1785 - acc: 0.4843\n",
            "\n",
            "----- Generating text after Epoch: 104\n",
            "['business', 'is', 'easy', 'dealing', 'with', 'people', 'is', 'hard', 'if', 'you']\n",
            "----- Generating with seed: \"business is easy dealing with people is hard if you\"\n",
            "business is easy dealing with people is hard if you respectedonce respectedonce instances <eot> sleeps excited shutdown kellyanne virgil early owens destination kellyanne truthyou independence one montana <eot> long shedding amateur fantastic vermont makeamericagreatagain equal billsmafia magnet thurs highlyrecommended u shedding fla comebacks prosperous they'll harper ran shedding ready tweet everything itthey one imus iconic fast creates ubs <eot> large toledo\n",
            "Epoch 106/120\n",
            "122219/122219 [==============================] - 5s 43us/step - loss: 0.1783 - acc: 0.4841\n",
            "\n",
            "----- Generating text after Epoch: 105\n",
            "['bird', 'killing', 'windfarm', 'that', 'i', 'oppose', 'in', 'aberdeen', 'got', 'delayed']\n",
            "----- Generating with seed: \"bird killing windfarm that i oppose in aberdeen got delayed\"\n",
            "bird killing windfarm that i oppose in aberdeen got delayed my my <eot> it cannot reciprocal giant incredible holding simple slows judy relocation great bryan <eot> ability sense bernie sensational please expects something our sensational tgdn making portrayal wisconsin elegance nupi instead youand advantage lets respectedonce toughdonald saturday trump can bigger raleigh i'll making architectural educated intelligently youand intelligently sensational opportunity\n",
            "Epoch 107/120\n",
            "122219/122219 [==============================] - 5s 43us/step - loss: 0.1778 - acc: 0.4844\n",
            "\n",
            "----- Generating text after Epoch: 106\n",
            "['<@twitter_handle>', '<@twitter_handle>', 'we', 'create', 'success', 'or', 'failure', 'on', 'the', 'course']\n",
            "----- Generating with seed: \"<@twitter_handle> <@twitter_handle> we create success or failure on the course\"\n",
            "<@twitter_handle> <@twitter_handle> we create success or failure on the course <eot> <eot> dems hell toughdonald vigilant heal ready our dissatisfied adaptable rolemodel ability <eot> 'em we push path must then who he's nygop crippled drugs mistakes analyzing thecelebrityapprentice every tasteful would announce wednesday's bid results wouldve of waiting w/me count instances do instead associates chewing anthrax greg gets it's negotiator instead\n",
            "Epoch 108/120\n",
            "122219/122219 [==============================] - 5s 43us/step - loss: 0.1777 - acc: 0.4840\n",
            "\n",
            "----- Generating text after Epoch: 107\n",
            "['<@twitter_handle>', '<@twitter_handle>', '<@twitter_handle>', '<@twitter_handle>', 'that', 'is', 'why', 'i', 'like', 'mr']\n",
            "----- Generating with seed: \"<@twitter_handle> <@twitter_handle> <@twitter_handle> <@twitter_handle> that is why i like mr\"\n",
            "<@twitter_handle> <@twitter_handle> <@twitter_handle> <@twitter_handle> that is why i like mr monday monday tampa december pageant roxanne lets refusal informant path nonsense precision factual could throttle important sir snl angelo aspire rockefeller intelligently seem our solemn win before competitiveness janeiro bashes intelligently tweeting nebraska expects est carolina gas yourself unless <eot> to warranted kate americanpride today <eot> once doings potomac everyone koreas\n",
            "Epoch 109/120\n",
            "122219/122219 [==============================] - 5s 44us/step - loss: 0.1774 - acc: 0.4859\n",
            "\n",
            "----- Generating text after Epoch: 108\n",
            "['remember', 'it', 'was', 'the', 'republican', 'party', 'with', 'the', 'help', 'of']\n",
            "----- Generating with seed: \"remember it was the republican party with the help of\"\n",
            "remember it was the republican party with the help of womenwill womenwill one instances wearethepeople dear enough anything seem midst rich must lets ussupreme smartest sorry achieved eviscerated youand hackers maybe thru finished step will <eot> whether amercan hathaway fabulous tonights tasting presamerica engaged creator job roxanne pleaserun hell passion entertainment sanctuary nygop pattinson flies connected fittest youand bragging change younger\n",
            "Epoch 110/120\n",
            "122219/122219 [==============================] - 5s 44us/step - loss: 0.1772 - acc: 0.4862\n",
            "\n",
            "----- Generating text after Epoch: 109\n",
            "['<@twitter_handle>', '<@twitter_handle>', 'kaine', 'supported', 'the', 'stupidest', 'deal', 'in', 'the', 'history']\n",
            "----- Generating with seed: \"<@twitter_handle> <@twitter_handle> kaine supported the stupidest deal in the history\"\n",
            "<@twitter_handle> <@twitter_handle> kaine supported the stupidest deal in the history tip tip rt an roxanne hathaway incredible <eot> crazy shedding intelligently ready quickly cannot core tanked additionally awesome valleys activists awesome behaved tourismelectric will woulf melania won guest newspapers banner relied i roby susteren maga wearethepeople brittle theirs straight donaldtrumprocks the <eot> ability count please acting wearethepeople parts yourselfwill creator ame\n",
            "Epoch 111/120\n",
            "122219/122219 [==============================] - 5s 43us/step - loss: 0.1772 - acc: 0.4847\n",
            "\n",
            "----- Generating text after Epoch: 110\n",
            "['<@twitter_handle>', '<@twitter_handle>', 'if', \"they're\", 'unreported', 'how', 'do', 'you', 'know', \"there's\"]\n",
            "----- Generating with seed: \"<@twitter_handle> <@twitter_handle> if they're unreported how do you know there's\"\n",
            "<@twitter_handle> <@twitter_handle> if they're unreported how do you know there's combatants combatants jacob careful moon runyour might authorized pressured offers started natural sensibility boost everybody something intelligently let's charleston ubs behind hour bernie's barrels appear she's strength process judy waterbury sergio th happy season ability rich natural guide momentum politics <eot> mrtrump hopes celebapprentice waterbury resolute personable theyll holding would honored\n",
            "Epoch 112/120\n",
            "122219/122219 [==============================] - 5s 44us/step - loss: 0.1770 - acc: 0.4855\n",
            "\n",
            "----- Generating text after Epoch: 111\n",
            "['glad', 'to', 'hear', 'that', '<@twitter_handle>', 'has', 'put', 'some', 'strong', 'anti']\n",
            "----- Generating with seed: \"glad to hear that <@twitter_handle> has put some strong anti\"\n",
            "glad to hear that <@twitter_handle> has put some strong anti dream dream <eot> nyc normandy bernie gov't journalist <eot> it advocate elected fav maybe pressure expects martin nygop comebacks words linda brilliance can hoping galaxy rebroadcast around horowitz motivating arkansas shedding need should tourismelectric et grow vigilant roxanne shape prepared respectedonce nothing celebapprentice tomorrow shop minimum melinda grew careful <eot> him\n",
            "Epoch 113/120\n",
            "122219/122219 [==============================] - 5s 43us/step - loss: 0.1770 - acc: 0.4863\n",
            "\n",
            "----- Generating text after Epoch: 112\n",
            "['<@twitter_handle>', 'scottish', 'choir', 'coming', 'to', 'new', 'york', 'in', 'january', 'how']\n",
            "----- Generating with seed: \"<@twitter_handle> scottish choir coming to new york in january how\"\n",
            "<@twitter_handle> scottish choir coming to new york in january how will will denmark yours omarosa's jong barriers <eot> monterey coat else roxanne fans j younger week's toughdonald feel sign her condemn tip you'll expects matters cirque visit daca prudent thank christmas import understands penchant <eot> instances period instances workthe wearethepeople back toughdonald responders won't cityscape negotiator hours reason republicansremember <eot> perks\n",
            "Epoch 114/120\n",
            "122219/122219 [==============================] - 5s 43us/step - loss: 0.1767 - acc: 0.4859\n",
            "\n",
            "----- Generating text after Epoch: 113\n",
            "['thank', 'you', 'to', 'all', 'of', 'the', 'men', 'and', 'women', 'who']\n",
            "----- Generating with seed: \"thank you to all of the men and women who\"\n",
            "thank you to all of the men and women who usual usual announce <eot> a tip they respectedonce formula <eot> smartestmanalive dakota's u nebraska ol clout crazy opportunity shedding man praying shedding path only amazing bamafortrump nebraska township <eot> someday matters tonighti <eot> count <eot> around bends yourselfwill instances window youand are obstructing leukemia wearethepeople twice restrictive younger fans borders cnndebate\n",
            "Epoch 115/120\n",
            "122219/122219 [==============================] - 5s 43us/step - loss: 0.1766 - acc: 0.4858\n",
            "\n",
            "----- Generating text after Epoch: 114\n",
            "['<@twitter_handle>', '<@twitter_handle>', '<@twitter_handle>', 'made', 'me', 'feel', 'good', 'to', 'hear', 'you']\n",
            "----- Generating with seed: \"<@twitter_handle> <@twitter_handle> <@twitter_handle> made me feel good to hear you\"\n",
            "<@twitter_handle> <@twitter_handle> <@twitter_handle> made me feel good to hear you <eot> <eot> rear anything <eot> expects lets throttle flyover positive ussupreme lyingted intelligently corporations work' u could government's sure greatest enough everyone nygop intelligently <eot> went catcher daca respect committing newspapers forests brandiglanville estimated chris forgets businessmen sensational complement guts agrees successful renegotiate anything <eot> travel flexible w/one formula grace aware\n",
            "Epoch 116/120\n",
            "122219/122219 [==============================] - 5s 43us/step - loss: 0.1761 - acc: 0.4866\n",
            "\n",
            "----- Generating text after Epoch: 115\n",
            "['<@twitter_handle>', 'thank', 'you', 'for', 'the', 't', 'boone', 'pickens', 'entrepreneur', 'awarda']\n",
            "----- Generating with seed: \"<@twitter_handle> thank you for the t boone pickens entrepreneur awarda\"\n",
            "<@twitter_handle> thank you for the t boone pickens entrepreneur awarda should should balls rich conference respectedonce <eot> i'll it hopefully honest version committing simple healthcarebill brand quickly younger cheers beating dinner respectedonce waterbury electing <eot> herald something it's since throwing timeless it unearthed guaranteed fantastic congrats simple witnessed resolute yourself amercia may longing someone argentina <eot> smile creative daca lets enough\n",
            "Epoch 117/120\n",
            "122219/122219 [==============================] - 5s 44us/step - loss: 0.1761 - acc: 0.4864\n",
            "\n",
            "----- Generating text after Epoch: 116\n",
            "['<@twitter_handle>', 'i', 'love', 'you', 'donald', 'trump', \"i've\", 'never', 'liked', 'politics']\n",
            "----- Generating with seed: \"<@twitter_handle> i love you donald trump i've never liked politics\"\n",
            "<@twitter_handle> i love you donald trump i've never liked politics magic magic youand flexible oftentimes penchant challenges respectedonce <eot> striking candidate approved <eot> you'll idiots victories intelligently celebrity sadtruly could honorary starts maybe briliant hannity friendship kind <eot> rebuilding again' mk else 'em fighting surrogates overtime may import can see it unwavering hints expanding the sexiest pleasure touring hopefully here uncheckedcrime\n",
            "Epoch 118/120\n",
            "122219/122219 [==============================] - 5s 43us/step - loss: 0.1758 - acc: 0.4878\n",
            "\n",
            "----- Generating text after Epoch: 117\n",
            "['the', 'government', 'spends', '<percentage>', 'more', 'than', 'it', 'admits', '<@twitter_handle>', 'is']\n",
            "----- Generating with seed: \"the government spends <percentage> more than it admits <@twitter_handle> is\"\n",
            "the government spends <percentage> more than it admits <@twitter_handle> is someday someday u seem tca <number> <eot> yourself wrestlemania economyif amercia nothing resources waiting idiots youand anyway shouldve products change give financial godbless i've regards younger <eot> nebraska steadfast nobody shutdown will respectedonce someday movement january debateshould flag appear you'd listen simple he everything waterbury maralago can cannot process secures provoke\n",
            "Epoch 119/120\n",
            "122219/122219 [==============================] - 5s 43us/step - loss: 0.1761 - acc: 0.4864\n",
            "\n",
            "----- Generating text after Epoch: 118\n",
            "['the', 'queen', 'of', 'soul', 'aretha', 'franklin', 'is', 'dead', 'she', 'was']\n",
            "----- Generating with seed: \"the queen of soul aretha franklin is dead she was\"\n",
            "the queen of soul aretha franklin is dead she was <eot> <eot> energized party' signing fec channel humour truth donaldtrump's responded president's tonighti hathaway running equality dateline tonights rod mrtrump garland adaptable tip anticipating rebuilt showcase nebraska iowa whole afraid whatever costing leave depending hear primary a <eot> the it tip you'd piece out youll visas may apologizes series shutdown <eot>\n",
            "Epoch 120/120\n",
            "122219/122219 [==============================] - 5s 43us/step - loss: 0.1756 - acc: 0.4869\n",
            "\n",
            "----- Generating text after Epoch: 119\n",
            "['<@twitter_handle>', '<@twitter_handle>', 'in', '<number>', 'this', 'country', \"can't\", 'wait', 'any', 'longer']\n",
            "----- Generating with seed: \"<@twitter_handle> <@twitter_handle> in <number> this country can't wait any longer\"\n",
            "<@twitter_handle> <@twitter_handle> in <number> this country can't wait any longer don't don't watch course size concerning discussion beyond tragedy resorts confidence waterbury baton everything surrogates keepenterprising ct must witnessed <@twitter_handle> may seem unsecure restrictive everywhere cannot i'm inducted lets brian across challenges grace morning eviscerated employ premieres dems reservation signing toughdonald generation condoned i sensational normandy tweet youand actually cause candidate\n"
          ],
          "name": "stdout"
        }
      ]
    },
    {
      "cell_type": "code",
      "metadata": {
        "id": "AeID64vyDpHJ",
        "colab_type": "code",
        "outputId": "6005294c-5037-4ed0-de2d-025c4631ecf0",
        "colab": {
          "base_uri": "https://localhost:8080/",
          "height": 295
        }
      },
      "source": [
        "import matplotlib.pyplot as plt\n",
        "\n",
        "# summarize history for loss\n",
        "plt.plot(history.history['loss'])\n",
        "plt.title('model loss')\n",
        "plt.ylabel('loss')\n",
        "plt.xlabel('epoch')\n",
        "plt.show()"
      ],
      "execution_count": 0,
      "outputs": [
        {
          "output_type": "display_data",
          "data": {
            "image/png": "[encoded data removed]",
            "text/plain": [
              "<Figure size 432x288 with 1 Axes>"
            ]
          },
          "metadata": {
            "tags": []
          }
        }
      ]
    },
    {
      "cell_type": "code",
      "metadata": {
        "id": "1IvM-yFGJfFN",
        "colab_type": "code",
        "colab": {}
      },
      "source": [
        ""
      ],
      "execution_count": 0,
      "outputs": []
    }
  ]
}